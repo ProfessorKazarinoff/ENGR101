{
 "cells": [
  {
   "cell_type": "markdown",
   "metadata": {},
   "source": [
    "# Lab 7 - Calculations with Python"
   ]
  },
  {
   "cell_type": "markdown",
   "metadata": {},
   "source": [
    "Complete the follwoing calculations. Put one line of calculations per cell. \n",
    "\n",
    "Run each cell with the [Run] button or by pressing [Shift]+[Enter]:"
   ]
  },
  {
   "cell_type": "markdown",
   "metadata": {},
   "source": [
    "$$ 4 \\times 4 $$ "
   ]
  },
  {
   "cell_type": "code",
   "execution_count": null,
   "metadata": {},
   "outputs": [],
   "source": []
  },
  {
   "cell_type": "markdown",
   "metadata": {},
   "source": [
    "$$ 12 \\div 3 $$"
   ]
  },
  {
   "cell_type": "code",
   "execution_count": null,
   "metadata": {},
   "outputs": [],
   "source": []
  },
  {
   "cell_type": "markdown",
   "metadata": {},
   "source": [
    "$$ 2^3 $$"
   ]
  },
  {
   "cell_type": "code",
   "execution_count": null,
   "metadata": {},
   "outputs": [],
   "source": []
  },
  {
   "cell_type": "markdown",
   "metadata": {},
   "source": [
    "$$ 1 + \\frac{3}{4} $$"
   ]
  },
  {
   "cell_type": "code",
   "execution_count": null,
   "metadata": {},
   "outputs": [],
   "source": []
  },
  {
   "cell_type": "markdown",
   "metadata": {},
   "source": [
    "$$ 5 + 6 + \\frac{4}{2} $$"
   ]
  },
  {
   "cell_type": "code",
   "execution_count": null,
   "metadata": {},
   "outputs": [],
   "source": []
  },
  {
   "cell_type": "markdown",
   "metadata": {},
   "source": [
    "$$ 5^2 \\times 3 $$"
   ]
  },
  {
   "cell_type": "markdown",
   "metadata": {},
   "source": [
    "$$ \\frac{(3+5-2)^2}{3} $$"
   ]
  },
  {
   "cell_type": "code",
   "execution_count": null,
   "metadata": {},
   "outputs": [],
   "source": []
  },
  {
   "cell_type": "markdown",
   "metadata": {},
   "source": [
    "$$ \\frac{1 + 3 + 9}{8 + 14 + 2} $$"
   ]
  },
  {
   "cell_type": "code",
   "execution_count": null,
   "metadata": {},
   "outputs": [],
   "source": []
  },
  {
   "cell_type": "markdown",
   "metadata": {},
   "source": [
    "$$ -\\sqrt{9^2 + 5^2 + 3^2} $$"
   ]
  },
  {
   "cell_type": "code",
   "execution_count": null,
   "metadata": {},
   "outputs": [],
   "source": []
  },
  {
   "cell_type": "markdown",
   "metadata": {},
   "source": [
    "$$ 1 + 5 + \\frac{3}{6^2} + 2^{2-4} \\times \\frac{1}{5.5} $$"
   ]
  },
  {
   "cell_type": "markdown",
   "metadata": {},
   "source": [
    "## Defining Variables\n",
    "\n",
    "For the next section, the define variables as stated in the problem and complete the calculation using the varable names"
   ]
  },
  {
   "cell_type": "markdown",
   "metadata": {},
   "source": [
    "Two sides of a right triangle have lengths 14 and 15. Find the length of the third side of the right triangle. Assign the length of the third side of the triangle to the variable ```c```.\n",
    "\n",
    "$$ a = 14 $$\n",
    "$$ b = 15 $$\n",
    "$$ c = ? $$\n",
    "\n",
    "calculate\n",
    "\n",
    "$$ a^2 + b^2 + c^2 $$\n",
    "$$ c = \\sqrt{a^2 + b^2} $$"
   ]
  },
  {
   "cell_type": "code",
   "execution_count": null,
   "metadata": {},
   "outputs": [],
   "source": []
  },
  {
   "cell_type": "markdown",
   "metadata": {},
   "source": [
    "The diameter of a circle is 5. Find the area of the circle, given that radius is one half of the diameter and area is equal to $\\pi r^2$. \n",
    "\n",
    "$$ d = 5 $$\n",
    "$$ a = ? $$\n",
    "\n",
    "$$ r = \\frac{d}{2} $$\n",
    "$$ a = \\pi r^2 $$\n"
   ]
  },
  {
   "cell_type": "code",
   "execution_count": null,
   "metadata": {},
   "outputs": [],
   "source": []
  },
  {
   "cell_type": "markdown",
   "metadata": {},
   "source": [
    "The diamter of a sphere is 10. Find the volume of the sphere, given the radius is one half the diameter and volume is equal to $\\frac{4}{3}\\pi r^3$\n",
    "\n",
    "$$ d = 10 $$\n",
    "$$ V = ? $$\n",
    "\n",
    "$$ r = \\frac{d}{2} $$\n",
    "$$ V = \\frac{4}{3} \\pi r^3 $$"
   ]
  },
  {
   "cell_type": "code",
   "execution_count": null,
   "metadata": {},
   "outputs": [],
   "source": []
  },
  {
   "cell_type": "markdown",
   "metadata": {},
   "source": [
    "A free-falling body will travel a vertical distance d, according to the free-fall time, t and the gravitational constant g which is equal to 9.8 m/s<sup>2</sup>.\n",
    "\n",
    "$$ d = \\frac{1}{2}gt^2 $$\n",
    "\n",
    "$$ g = 9.8 \\ m/s^2 $$\n",
    "\n",
    "Determine the distance a free-falling body will travel in meters if it falls for 0.8 seconds"
   ]
  },
  {
   "cell_type": "code",
   "execution_count": null,
   "metadata": {},
   "outputs": [],
   "source": []
  },
  {
   "cell_type": "markdown",
   "metadata": {},
   "source": [
    "A free-falling body will travel a vertical distance d, according to the free-fall time, t and the gravitational constant g which is equal to 9.8 m/s<sup>2</sup>.\n",
    "\n",
    "$$ d = \\frac{1}{2}gt^2 $$\n",
    "\n",
    "$$ g = 9.8 \\ m/s^2 $$\n",
    "\n",
    "How long will it take for a free-falling body to travel 3.4 meters?\n",
    "\n"
   ]
  },
  {
   "cell_type": "code",
   "execution_count": null,
   "metadata": {},
   "outputs": [],
   "source": []
  },
  {
   "cell_type": "markdown",
   "metadata": {},
   "source": [
    "## For Lab Check Off:\n",
    "\n",
    " * Save a copy of your notebook using File --> Make a Copy ...\n",
    " * Rename the copied notebook using your last name as the first part of the file name and Lab 7 as the second part of the file name. Example filename: kazarinoff-Lab7\n",
    " * Run all of the cells in your lastname-Lab7 notebook using Kernel --> Restart & Run All\n",
    " * Download your lastname-Lab7 notebook to the downloads folder using File --> Download as --> Notebook (.ipynb)\n",
    " * Upload your lastname-Lab7.ipynb file (the one you just downloaded) to Google Drive in the ENGR101 - Lab 7 folder\n",
    " * Before closing your notebook or google drive, raise your hand and have your instrcutor check your work. Your instructor will check:\n",
    "    * The entire lastname-Lab7 notebook was run and no errors were returned\n",
    "    * your lastname-Lab7.ipynb file was uploaded to google drive."
   ]
  },
  {
   "cell_type": "code",
   "execution_count": null,
   "metadata": {},
   "outputs": [],
   "source": []
  }
 ],
 "metadata": {
  "kernelspec": {
   "display_name": "Python 3",
   "language": "python",
   "name": "python3"
  },
  "language_info": {
   "codemirror_mode": {
    "name": "ipython",
    "version": 3
   },
   "file_extension": ".py",
   "mimetype": "text/x-python",
   "name": "python",
   "nbconvert_exporter": "python",
   "pygments_lexer": "ipython3",
   "version": "3.6.5"
  }
 },
 "nbformat": 4,
 "nbformat_minor": 2
}
