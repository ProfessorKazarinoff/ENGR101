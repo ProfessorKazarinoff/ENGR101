{
 "cells": [
  {
   "cell_type": "markdown",
   "metadata": {},
   "source": [
    "# Notes Lab 7 - Calculations with Python"
   ]
  },
  {
   "cell_type": "markdown",
   "metadata": {},
   "source": [
    "In this set of notes you will learn how to make mathematical calculations with Python. Python can be used a fancy type of calculator to help solve problems. Before diving into calculations, we'll do a quick review of how to use a jupyter notebook."
   ]
  },
  {
   "cell_type": "markdown",
   "metadata": {},
   "source": [
    "## Jupyter Notebooks\n",
    "\n",
    "What you are looking at and reading right now is a _jupyter notebook_. A jupyter notebook is an electronic document like a Microsoft Word .docx document or an Adobe Acrobat .pdf document. Jupyter notebook file names end with the ```.ipynb``` file extension. ```.ipynb``` stands for _IPython Notebook_. Originally this type of notebook was called an _IPython Notebook_, but now they are called _jupyter notebooks_.\n",
    "\n",
    "Jupyter notebooks contain a combination of computer code, output and text. Jupyter notebooks can also contain plots, charts and images.  Jupyter notebooks run in web browser like google chrome or firefox. \n",
    "\n",
    "### Types of Cells in a Jupyter Notebook.\n",
    "\n",
    "Jupyter notebooks are composed of seperate _cells_. A cell contains text or code that is grouped together and runs as one block. Most Jupyter notebooks contain many cells. Each cell can be empty, one line long or contain many lines. There are three main types of jupyter notebook cells: code cells, output cells and markdown cells.  \n",
    "\n",
    "#### Code Cells\n",
    "\n",
    "Programming code, in our case Python code, is typed into code cells. You can tell you are typing in a code cell becuase the is an ```In [ ]:``` to the left of the cell and the cell-type drop down menu shows **Code**. \n",
    "\n",
    "![Jupyter Notebook Code Cell](images/code_cell.png)\n",
    "\n",
    "Code cells are run by clicking the <button class=\"btn btn-default\"><i class=\"fa-step-forward fa\"></i><span class=\"toolbar-btn-label\">Run</span></button> button on the top menu or pressing [Shift] + [Enter].\n",
    "\n",
    "![Jupyter Notebook Run Cell](images/run_cell.png)\n",
    "\n",
    "#### Output Cells\n",
    "\n",
    "After a code cell is run, an output cell is often produced below it. The output cell contains the output from the code cell above it. Not all code produces output, so not all code cells produce output cells. The results of output cells can't be edited. If a code cell produces plots, charts or images, these outputs will be shown in output cells. \n",
    "\n",
    "![Jupyter Notebook Output Cell](images/output_cell.png)\n",
    "\n",
    "You can clear all the output cells and rerun code cells by selecting **Kernal -- > Restart Kernal and Clear All Outputs**.\n",
    "\n",
    "![Jupyter Notebook Clear All Outputs](images/kernel_restart_and_clear_output.png)\n",
    "\n",
    "#### Markdown Cells\n",
    "\n",
    "Markdown cells don't contain code, they contain text.  Text in markdown cells that can be formatted to show **bold** or _italic_ text. Tables, images and lists can also be included in markdown cells. \n",
    "\n",
    "![Jupyter Notebook Markdown Cell](images/markdown_cell.png)\n",
    "\n",
    "Text in markdown cells can be formatting using _markdown syntax_. An example of markdown syntax is putting an underscore before and after a word to cause the word to be formatted in itallics. The table below shows a couple examples of markdown syntax:\n",
    "\n",
    "| markdown syntax | formatted result |\n",
    "| --- | --- |\n",
    "| ```_italics_``` | _italics_ |\n",
    "|```**bold**``` | **bold** |\n",
    "|```__**bold and italic**__``` | __**bold and italic**__ |\n",
    "\n",
    "Markdown cells are run like code cells. The difference is that when markdown cells are run, the text is formatted (when code cells are run the code is excecuted). Markdown cells are run by clicking the <button class=\"btn btn-default\"><i class=\"fa-step-forward fa\"></i><span class=\"toolbar-btn-label\">Run</span></button> button on the top menu or pressing [Shift] + [Enter].\n",
    "\n",
    "### Saving a Jupyter Notebook\n",
    "\n",
    "Jupyter notebooks can be saved using the save icon in the upper menu or by pressing [Ctrl] + [s].\n",
    "\n",
    "![Jupyter Notebook Save](images/save_notebook.png)\n",
    "\n",
    "Jupyter notebooks can also be saved as a copy, similar to the Save As command common in many programs. To save a copy of a jupyter notebook use **File --> Make a Copy...**\n",
    "\n",
    "![Jupyter Notebook save a copy](images/file_make_a_copy.png)\n",
    "\n",
    "### Renaming a Jupyter Notebook\n",
    "\n",
    "Jupyter notebooks are renamed by clicking on the notebook name above the upper menu and typing a new name into the dialog box.\n",
    "\n",
    "![Jupyter Notebook rename notebook](images/rename_notebook.png)\n",
    "\n",
    "![Jupyter Notebook rename dialog box](images/rename_dialog.png)\n",
    "\n",
    "### Downloading a Jupyter Notebok\n",
    "\n",
    "Jupyter notebooks can be downloaded and saved using **File --> Download As --> Notebook (.ipynb)**. This will download the notebook as a .ipynb file. \n",
    "\n",
    "![Jupyter Notebook downloaded as .ipynb file](images/file_download_as_notebook.png)\n",
    "\n",
    "Note that when a .ipynb file is viewed in a text editor like notepad, the notebook is unformatted and looks like a confusing jumble of text. The notebook needs to be opened in a jupyter notebook file browser in order for it to be rendered.\n",
    "\n",
    "![Jupyter Notebook JSON in notepad](images/notebook_json.png)\n"
   ]
  },
  {
   "cell_type": "markdown",
   "metadata": {},
   "source": [
    "## Addition and Subtraction\n",
    "\n",
    "Python can be used to complete addition and subtration problems. The following opperators will add and subtract numbers. The minus sign ```-``` is used for both subtraction and to define negative numbers.\n",
    "\n",
    "| mathematical opperator | name | description | example | result\n",
    "| --- | --- | --- | --- | --- |\n",
    "| ``` + ``` | addition | adds two numbers | ```2 + 3 ``` | ```5``` |\n",
    "| ``` - ``` | subtraction | subtracts two numbers | ```8 - 6 ``` | ```2``` |\n",
    "| ``` - ``` | negation | negative number | ```-4``` | ```-4``` |"
   ]
  },
  {
   "cell_type": "markdown",
   "metadata": {},
   "source": [
    "### Addition and Subtraction Examples\n",
    "\n",
    "Try the following problems. Select the code cell by clicking on it. Type [Shift] + [Enter] or click the run <button class=\"btn btn-default\"><i class=\"fa-step-forward fa\"></i><span class=\"toolbar-btn-label\">Run</span></button> button to run the code cell."
   ]
  },
  {
   "cell_type": "code",
   "execution_count": 8,
   "metadata": {},
   "outputs": [
    {
     "data": {
      "text/plain": [
       "5"
      ]
     },
     "execution_count": 8,
     "metadata": {},
     "output_type": "execute_result"
    }
   ],
   "source": [
    "2 + 3"
   ]
  },
  {
   "cell_type": "code",
   "execution_count": 9,
   "metadata": {},
   "outputs": [
    {
     "data": {
      "text/plain": [
       "55"
      ]
     },
     "execution_count": 9,
     "metadata": {},
     "output_type": "execute_result"
    }
   ],
   "source": [
    "100 + -45"
   ]
  },
  {
   "cell_type": "code",
   "execution_count": 10,
   "metadata": {},
   "outputs": [
    {
     "data": {
      "text/plain": [
       "45"
      ]
     },
     "execution_count": 10,
     "metadata": {},
     "output_type": "execute_result"
    }
   ],
   "source": [
    "60 - 15"
   ]
  },
  {
   "cell_type": "code",
   "execution_count": 11,
   "metadata": {},
   "outputs": [
    {
     "data": {
      "text/plain": [
       "-724"
      ]
     },
     "execution_count": 11,
     "metadata": {},
     "output_type": "execute_result"
    }
   ],
   "source": [
    "-12 - 712"
   ]
  },
  {
   "cell_type": "markdown",
   "metadata": {},
   "source": [
    "Complete the following calculation in the cell below. Click in the cell before typing in the calculation\n",
    "\n",
    "$$ 0.76 - 0.002 $$\n",
    "\n",
    "Type [Shift] + [Enter] or click the run <button class=\"btn btn-default\"><i class=\"fa-step-forward fa\"></i><span class=\"toolbar-btn-label\">Run</span></button> button to run the code cell."
   ]
  },
  {
   "cell_type": "code",
   "execution_count": null,
   "metadata": {
    "collapsed": true
   },
   "outputs": [],
   "source": []
  },
  {
   "cell_type": "markdown",
   "metadata": {},
   "source": [
    "## Multiplication, Division and Exponents\n",
    "\n",
    "Python can complete multiplication, division and exponent calculations. To multiply two numbers in Python, use the asterisk ```*``` symbol ([Shift]+[8]), not an ```x```. If parenthesis are used in a multiplication calculation, the asterisk ```*``` symbol must be included as in ```4*(5-2)```. Note the symbol for exponents in Python is a double asterist ```**``` not the carrot symbol ```^```. To find the square root of a number, a fractional exponent can be specified.\n",
    "\n",
    "| mathematical opperator | name | description | example | result\n",
    "| --- | --- | --- | --- | --- |\n",
    "| ``` * ``` | multiplication | multiplies two numbers | ``` 5 * 2 ``` | ``` 10 ``` |\n",
    "| ``` / ``` | division | divides two numbers | ``` 6 / 3 ``` | ``` 2 ``` |\n",
    "| ``` ** ``` | exponents | raises a number to a power | ``` 10**2 ``` | ``` 100 ``` |"
   ]
  },
  {
   "cell_type": "markdown",
   "metadata": {},
   "source": [
    "### Multiplication, Division and Exponents Examples\n",
    "\n",
    "Try the following problems. Select the code cell by clicking on it. Type [Shift] + [Enter] or click the run <button class=\"btn btn-default\"><i class=\"fa-step-forward fa\"></i><span class=\"toolbar-btn-label\">Run</span></button> button to run the code cell."
   ]
  },
  {
   "cell_type": "code",
   "execution_count": 12,
   "metadata": {},
   "outputs": [
    {
     "data": {
      "text/plain": [
       "20"
      ]
     },
     "execution_count": 12,
     "metadata": {},
     "output_type": "execute_result"
    }
   ],
   "source": [
    "4 * 5"
   ]
  },
  {
   "cell_type": "code",
   "execution_count": 13,
   "metadata": {},
   "outputs": [
    {
     "data": {
      "text/plain": [
       "20"
      ]
     },
     "execution_count": 13,
     "metadata": {},
     "output_type": "execute_result"
    }
   ],
   "source": [
    "-4 * -5"
   ]
  },
  {
   "cell_type": "code",
   "execution_count": 14,
   "metadata": {},
   "outputs": [
    {
     "data": {
      "text/plain": [
       "-4.0"
      ]
     },
     "execution_count": 14,
     "metadata": {},
     "output_type": "execute_result"
    }
   ],
   "source": [
    "10 / -2.5"
   ]
  },
  {
   "cell_type": "code",
   "execution_count": 15,
   "metadata": {},
   "outputs": [
    {
     "data": {
      "text/plain": [
       "256"
      ]
     },
     "execution_count": 15,
     "metadata": {},
     "output_type": "execute_result"
    }
   ],
   "source": [
    "2**8"
   ]
  },
  {
   "cell_type": "code",
   "execution_count": 16,
   "metadata": {},
   "outputs": [
    {
     "data": {
      "text/plain": [
       "3.0"
      ]
     },
     "execution_count": 16,
     "metadata": {},
     "output_type": "execute_result"
    }
   ],
   "source": [
    "9**(1/2)"
   ]
  },
  {
   "cell_type": "markdown",
   "metadata": {},
   "source": [
    "Complete the following calculation in the cell below. Click in the cell before typing in the calculation\n",
    "\n",
    "$$ \\frac{6.039}{3} $$\n",
    "\n",
    "Type [Shift] + [Enter] or click the run <button class=\"btn btn-default\"><i class=\"fa-step-forward fa\"></i><span class=\"toolbar-btn-label\">Run</span></button> button to run the code cell."
   ]
  },
  {
   "cell_type": "code",
   "execution_count": null,
   "metadata": {
    "collapsed": true
   },
   "outputs": [],
   "source": []
  },
  {
   "cell_type": "markdown",
   "metadata": {},
   "source": [
    "Complete the following calculation in the cell below. Click in the cell before typing in the calculation\n",
    "\n",
    "$$ \\frac{6.039}{3} $$\n",
    "\n",
    "Type [Shift] + [Enter] or click the run <button class=\"btn btn-default\"><i class=\"fa-step-forward fa\"></i><span class=\"toolbar-btn-label\">Run</span></button> button to run the code cell."
   ]
  },
  {
   "cell_type": "code",
   "execution_count": null,
   "metadata": {
    "collapsed": true
   },
   "outputs": [],
   "source": []
  },
  {
   "cell_type": "markdown",
   "metadata": {},
   "source": [
    "Complete the following calculation in the cell below. Click in the cell before typing in the calculation\n",
    "\n",
    "$$ \\sqrt{20449} $$\n",
    "\n",
    "Type [Shift] + [Enter] or click the run <button class=\"btn btn-default\"><i class=\"fa-step-forward fa\"></i><span class=\"toolbar-btn-label\">Run</span></button> button to run the code cell."
   ]
  },
  {
   "cell_type": "code",
   "execution_count": null,
   "metadata": {
    "collapsed": true
   },
   "outputs": [],
   "source": []
  },
  {
   "cell_type": "markdown",
   "metadata": {},
   "source": [
    "## Parenthesis, Order of Opperations and Scientific Notation\n",
    "\n",
    "Calculations in Python can include parenthesis ``` ( ) ``` and scientific notation ```6.02e23```. \n",
    "\n",
    "Opperations inside of parenthesis ``` ( ) ``` will be completed first. Subsequent calculations will follow the order of mathematical opperations. The Acronym **PEMDAS** helps us remember the order of opperations\n",
    "\n",
    " * **P** - Parenthesis\n",
    " * **E** - Exponents\n",
    " * **M** - Multiplication\n",
    " * **D** - Division\n",
    " * **A** - Addition\n",
    " * **S** - Subtraction\n",
    "\n",
    "Scientific notation can include a lowercase ```e``` or uppercase ```E```, both will form the same value.  ```6.02e23 = 6.02E23```. Negative numbers and zeros ``` 0 ``` can be included after the ```e``` as in ```8.13e-04```\n",
    "\n",
    "| mathematical opperator | name | description | example | result\n",
    "| --- | --- | --- | --- | --- |\n",
    "| ``` ( )``` | parenthesis | expression calculated first | ``` (4-2)-(2+2) ``` | ``` 8 ``` |\n",
    "| ``` e ``` | scientific notation | 10 raised to a power | ``` 4e2 ``` | ``` 400 ``` |\n",
    "| ``` E ``` | scientific notation | 10 raised to a power | ``` 5E-04 ``` | ``` 0.0005 ``` |"
   ]
  },
  {
   "cell_type": "markdown",
   "metadata": {},
   "source": [
    "### Parenthesis, Order of Opperations and Scientific Notation Examples\n",
    "\n",
    "Try the following problems. Select the code cell by clicking on it. Type [Shift] + [Enter] or click the run <button class=\"btn btn-default\"><i class=\"fa-step-forward fa\"></i><span class=\"toolbar-btn-label\">Run</span></button> button to run the code cell."
   ]
  },
  {
   "cell_type": "code",
   "execution_count": 17,
   "metadata": {},
   "outputs": [
    {
     "data": {
      "text/plain": [
       "0.9799382716049383"
      ]
     },
     "execution_count": 17,
     "metadata": {},
     "output_type": "execute_result"
    }
   ],
   "source": [
    "(6.7 - 0.35)/(6.7-0.22)"
   ]
  },
  {
   "cell_type": "code",
   "execution_count": 18,
   "metadata": {},
   "outputs": [
    {
     "data": {
      "text/plain": [
       "14.0"
      ]
     },
     "execution_count": 18,
     "metadata": {},
     "output_type": "execute_result"
    }
   ],
   "source": [
    "( 4e-2**(-1/2) ) + 9"
   ]
  },
  {
   "cell_type": "code",
   "execution_count": 19,
   "metadata": {},
   "outputs": [
    {
     "data": {
      "text/plain": [
       "11.499987237184376"
      ]
     },
     "execution_count": 19,
     "metadata": {},
     "output_type": "execute_result"
    }
   ],
   "source": [
    "((5.7e5 + 5.8e5) - (2.1*0.5)**5) / 1e5"
   ]
  },
  {
   "cell_type": "markdown",
   "metadata": {},
   "source": [
    "Complete the following calculation in the cell below. Click in the cell before typing in the calculation.\n",
    "\n",
    "$$ \\sqrt{\\frac{5.09 \\times 10^{-6}}{45 + 8}}  $$\n",
    "\n",
    "Type [Shift] + [Enter] or click the run <button class=\"btn btn-default\"><i class=\"fa-step-forward fa\"></i><span class=\"toolbar-btn-label\">Run</span></button> button to run the code cell."
   ]
  },
  {
   "cell_type": "markdown",
   "metadata": {},
   "source": [
    "Complete the following calculation in the code cell below:\n",
    "\n",
    "$$ \\frac{2 + 5 + 4.1 + 8}{4}^{-3} $$"
   ]
  },
  {
   "cell_type": "code",
   "execution_count": null,
   "metadata": {
    "collapsed": true
   },
   "outputs": [],
   "source": []
  },
  {
   "cell_type": "markdown",
   "metadata": {},
   "source": [
    "Complete the following calculation in the code cell below:\n",
    "    \n",
    "$$\\frac{1+\\sqrt{0.4}}{1+2\\times 10^2}$$"
   ]
  },
  {
   "cell_type": "code",
   "execution_count": null,
   "metadata": {
    "collapsed": true
   },
   "outputs": [],
   "source": []
  },
  {
   "cell_type": "markdown",
   "metadata": {},
   "source": [
    "## Integers, Floats and Variables\n",
    "\n",
    "So far we have used two different types of numbers in our calculations: Integers such as ```4```, ```0```, ```-5``` and decimals ```3.14```, ```0.002```, ```-7e-9```. Python has two different _data types_ for these two different types of numbers: ```int``` and ```float```. ```int``` stands for integer. An integer in Python is similar to an integer in algebra. An integers are whole numbers including zero. ```float``` stands for _floating point number_. A floating point number is a number. A _floating point number_ is a number that has a coefficient and an exponent. For example $3.2 \\times 10^4$. The coefficient is $3.2$ and the exponent is $4$. Any decimal number can be described with a coefficient and an exponent.\n",
    "\n",
    " * ```int``` - integer data type. Whole numbers: positive, negative and zero\n",
    " * ```float``` - floating point number data type. Decimal number: positive, negative and zero\n",
    " \n",
    "In Python, integers are declared using whole numbers. Floating point numbers or decimals are declared when a number contains a decimal point or is in scientific notation.\n",
    "\n",
    "| example | numeric data type |\n",
    "| --- | --- |\n",
    "| 5 | int |\n",
    "| -3 | int |\n",
    "| 0.932 | float |\n",
    "| 5e2 | float |\n",
    "|4. | float |\n",
    "\n",
    "When doing calculations with Python, number can sometimes be automatically converted from one numeric data type to another. We can also use two built in _functions_  ```float()``` and ```int()``` to convert between the two number types. \n",
    "\n",
    "```\n",
    "float(5)\n",
    "5.0\n",
    "int(4.1)\n",
    "4\n",
    "```\n",
    "### Variables\n",
    "Numbers is Python can be stored in _variables_. In Python, variables are assigned using the _assignment opperator_, which is the equals sign ```=```. The variable name is written first on the left, the equals sign is added next in the middle and the number is written last on the right.\n",
    "\n",
    "```\n",
    "n = 4\n",
    "```\n",
    "\n",
    "Variables in Python must start with a letter, can only contain letters, numbers and the underscore character ```_```. \n",
    "\n",
    "Python Variable Naming Rules:\n",
    " * must start with a letter\n",
    " * can only contain letters, numbers and underscores ```_```\n",
    " * no spaces\n",
    "\n",
    "Example of a variable assignment\n",
    "```\n",
    "test_score = 89\n",
    "test1 = 74\n",
    "test2 = 90\n",
    "```\n",
    "\n",
    "Example of a variable assignment that does not work. Variable name starts with a number.\n",
    "\n",
    "```\n",
    "1st_test_grade = 82\n",
    "\n",
    "SyntaxError: invalid syntax\n",
    "```\n",
    "\n",
    "Once a variable is defined, it can be used is subsequent calculations:"
   ]
  },
  {
   "cell_type": "code",
   "execution_count": 1,
   "metadata": {},
   "outputs": [
    {
     "data": {
      "text/plain": [
       "6"
      ]
     },
     "execution_count": 1,
     "metadata": {},
     "output_type": "execute_result"
    }
   ],
   "source": [
    "a = 2\n",
    "b = 4\n",
    "a + b"
   ]
  },
  {
   "cell_type": "markdown",
   "metadata": {},
   "source": [
    "#### Variable Naming Convensions\n",
    "\n",
    "Although not strickly enforced, there are a couple naming conventions for Python variables:\n",
    "\n",
    "Python Variable Naming Conventions\n",
    "* keep variable names short, but descriptive\n",
    "* variables should start with a lower case letter, unless they are global constants that do not change (see below)\n",
    "* global variables that do not change should contain all UPPERCASE_LETTERS\n",
    "* The underscore ```_``` and double underscore ```___``` should **not be used** at the **start** or **end** of variable  names. These characters have special meaning in Python. \n",
    "* The underscore ```_``` **can be used** in the middle of a variable_name."
   ]
  },
  {
   "cell_type": "markdown",
   "metadata": {},
   "source": [
    "### Variable Examples"
   ]
  },
  {
   "cell_type": "markdown",
   "metadata": {},
   "source": [
    "## Logerithms and Exponents\n",
    "\n",
    "\n",
    "| mathematical function | name | description | example | result |\n",
    "| --- | --- | --- | --- | --- |\n",
    "| ``` math.e ``` | euler's number | mathematical constant $e$ | ``` math.e ``` | ``` 2.718 ``` |\n",
    "| | | | | |\n",
    "| ``` math.exp() ``` | exponent | $e$ raised to a power | ``` math.exp(2.2) ``` | ``` 9.025 ``` |\n",
    "| ``` math.log() ``` | natural log erithm| log base e | ``` log(3.1) ``` | ``` 400 ``` |\n",
    "| ``` math.log10() ``` | base 10 logerithm | log base 10 | ``` log10(100) ``` | ``` 2.0 ``` |\n"
   ]
  },
  {
   "cell_type": "markdown",
   "metadata": {},
   "source": [
    "## Trig Functions\n",
    "\n",
    "| trig function | name | description | example | result\n",
    "| --- | --- | --- | --- | --- |\n",
    "| ``` math.pi ``` | pi | mathematical constant $\\pi$ | ``` math.pi ``` | ``` 3.14 ``` |\n",
    "| | | | | |\n",
    "| ``` math.sin() ``` | sine | sine of an angle in radians | ``` math.sin(4) ``` | ``` 9.025 ``` |\n",
    "| ``` math.cos() ``` | cosine | cosine of an angle in radians | ``` log(3.1) ``` | ``` 400 ``` |\n",
    "| ``` math.tan() ``` | tangent | tangent of an angle in radians | ``` log10(100) ``` | ``` 2.0 ``` |\n",
    "| | | | | |\n",
    "| ``` math.asin() ``` | arc sine | inverse sine, ouput in radians | ``` math.sin(4) ``` | ``` 9.025 ``` |\n",
    "| ``` math.acos() ``` | arc cosine | inverse cosine, ouput in radians | ``` log(3.1) ``` | ``` 400 ``` |\n",
    "| ``` math.atan() ``` | arc tangent | inverse tangent, ouput in radians | ``` log10(100) ``` | ``` 2.0 ``` |\n",
    "| | | | | |\n",
    "| ``` math.degress() ``` | degree conversion | radians to degrees. in: radians out: degrees | ``` math.degrees(math.pi) ``` | ``` 180.0 ``` |\n",
    "| ``` math.radians() ``` | radians conversion | degrees to radians. in: degrees out: radians | ``` math.radians(90) ``` | ``` 1.57 ``` |\n"
   ]
  },
  {
   "cell_type": "markdown",
   "metadata": {},
   "source": [
    "## Special Opperators: % and //\n",
    "\n",
    "In Python there are two additional math opperators besides ```+```, ```-```, ```*```, ```/```, and ```**```. These are the  remainder opperator ```%``` and the floor division opperator ```//```. The remainder opperator ```%``` does what it says, it calculates the remainder after two numbers are divided. The floor division opperator ```//``` removes any fractional or decimal remainer after division.\n",
    "\n",
    "#### Two Examples\n",
    "\n",
    "$5 \\div 2 = 2.5$\n",
    "\n",
    "Two goes into five two times leaving a remainer of 1.\n",
    "\n",
    "```\n",
    "5 % 2 = 1\n",
    "```\n",
    "\n",
    "After dividing five by two, if we take off the fractional or deicimal remainder, which is 0.5, we are left with two.\n",
    "\n",
    "```\n",
    "5 // 2 = 2\n",
    "```\n"
   ]
  },
  {
   "cell_type": "code",
   "execution_count": 6,
   "metadata": {},
   "outputs": [
    {
     "data": {
      "text/plain": [
       "2"
      ]
     },
     "execution_count": 6,
     "metadata": {},
     "output_type": "execute_result"
    }
   ],
   "source": [
    "5 // 2 "
   ]
  },
  {
   "cell_type": "code",
   "execution_count": 5,
   "metadata": {},
   "outputs": [
    {
     "data": {
      "text/plain": [
       "1"
      ]
     },
     "execution_count": 5,
     "metadata": {},
     "output_type": "execute_result"
    }
   ],
   "source": [
    "5 % 2"
   ]
  },
  {
   "cell_type": "markdown",
   "metadata": {},
   "source": [
    "## References and Going Further\n",
    "\n",
    "The official documentation for Python's **math** module can be found here:\n",
    "\n",
    "> [https://docs.python.org/3/library/math.html](https://docs.python.org/3/library/math.html)\n",
    "\n",
    "A good introduction to Jupyter Notebooks can be found in the Jupyter Documentation\n",
    "\n",
    "> [Jupyter Notebook Basics](http://jupyter-notebook.readthedocs.io/en/stable/examples/Notebook/Notebook%20Basics.html)\n",
    "\n",
    "A nice tutorial on Python data types including integers and floats on Real Python:\n",
    "\n",
    "> [https://realpython.com/python-data-types/](https://realpython.com/python-data-types/)\n",
    "\n",
    "Python includes many statistics functions in the **statistics** module. Some examples include:\n",
    "\n",
    "```\n",
    "from statistics import mean\n",
    "a = [40, 52, 68, 43]\n",
    "mean(a)\n",
    "```\n",
    "\n",
    "Find more statistics functions on the Python docs:\n",
    "\n",
    "> [https://docs.python.org/3/library/statistics.html](https://docs.python.org/3/library/statistics.html)\n",
    "\n",
    "\n",
    "The **numpy** module contains many more mathematical functions, including the mathematical manipulation of matricies. An example inlcudes:\n",
    "\n",
    "```\n",
    "import numpy as np\n",
    "mat = np.array([2, 3, 5])\n",
    "mat * 2\n",
    "```\n",
    "\n",
    "Numpy's documentation can be found here:\n",
    "\n",
    "> [https://docs.scipy.org/doc/numpy/user/quickstart.html](https://docs.scipy.org/doc/numpy/user/quickstart.html)"
   ]
  },
  {
   "cell_type": "code",
   "execution_count": null,
   "metadata": {
    "collapsed": true
   },
   "outputs": [],
   "source": []
  }
 ],
 "metadata": {
  "kernelspec": {
   "display_name": "Python 3",
   "language": "python",
   "name": "python3"
  },
  "language_info": {
   "codemirror_mode": {
    "name": "ipython",
    "version": 3
   },
   "file_extension": ".py",
   "mimetype": "text/x-python",
   "name": "python",
   "nbconvert_exporter": "python",
   "pygments_lexer": "ipython3",
   "version": "3.6.5"
  }
 },
 "nbformat": 4,
 "nbformat_minor": 2
}
