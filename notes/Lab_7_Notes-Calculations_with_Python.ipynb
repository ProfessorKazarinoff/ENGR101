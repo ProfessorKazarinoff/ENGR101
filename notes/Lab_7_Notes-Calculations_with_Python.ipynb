{
 "cells": [
  {
   "cell_type": "markdown",
   "metadata": {},
   "source": [
    "# Calculations with Python"
   ]
  },
  {
   "cell_type": "markdown",
   "metadata": {},
   "source": [
    "In this set of notes you will learn how to make mathematical calculations with Python. Python can be used a fancy type of calculator to help solve problems."
   ]
  },
  {
   "cell_type": "markdown",
   "metadata": {},
   "source": [
    "## Addition and Subtraction\n",
    "\n",
    "Python can be used to complete addition and subtration problems. The following opperators will add and subtract numbers. The minus sign ```-``` is used for both subtraction and to define negative numbers.\n",
    "\n",
    "| mathematical opperator | name | description | example | result\n",
    "| --- | --- | --- | --- | --- |\n",
    "| ``` + ``` | addition | adds two numbers | ```2 + 3 ``` | ```5``` |\n",
    "| ``` - ``` | subtraction | subtracts two numbers | ```8 - 6 ``` | ```2``` |\n",
    "| ``` - ``` | negation | negative number | ```-4``` | ```-4``` |"
   ]
  },
  {
   "cell_type": "markdown",
   "metadata": {},
   "source": [
    "### Addition and Subtraction Examples\n",
    "\n",
    "Try the following problems. Select the code cell by clicking on it. Type [Shift] + [Enter] or click the run <button class=\"btn btn-default\"><i class=\"fa-step-forward fa\"></i><span class=\"toolbar-btn-label\">Run</span></button> button to run the code cell."
   ]
  },
  {
   "cell_type": "code",
   "execution_count": 8,
   "metadata": {},
   "outputs": [
    {
     "data": {
      "text/plain": [
       "5"
      ]
     },
     "execution_count": 8,
     "metadata": {},
     "output_type": "execute_result"
    }
   ],
   "source": [
    "2 + 3"
   ]
  },
  {
   "cell_type": "code",
   "execution_count": 9,
   "metadata": {},
   "outputs": [
    {
     "data": {
      "text/plain": [
       "55"
      ]
     },
     "execution_count": 9,
     "metadata": {},
     "output_type": "execute_result"
    }
   ],
   "source": [
    "100 + -45"
   ]
  },
  {
   "cell_type": "code",
   "execution_count": 10,
   "metadata": {},
   "outputs": [
    {
     "data": {
      "text/plain": [
       "45"
      ]
     },
     "execution_count": 10,
     "metadata": {},
     "output_type": "execute_result"
    }
   ],
   "source": [
    "60 - 15"
   ]
  },
  {
   "cell_type": "code",
   "execution_count": 11,
   "metadata": {},
   "outputs": [
    {
     "data": {
      "text/plain": [
       "-724"
      ]
     },
     "execution_count": 11,
     "metadata": {},
     "output_type": "execute_result"
    }
   ],
   "source": [
    "-12 - 712"
   ]
  },
  {
   "cell_type": "markdown",
   "metadata": {},
   "source": [
    "Complete the following calculation in the cell below. Click in the cell before typing in the calculation\n",
    "\n",
    "$$ 0.76 - 0.002 $$\n",
    "\n",
    "Type [Shift] + [Enter] or click the run <button class=\"btn btn-default\"><i class=\"fa-step-forward fa\"></i><span class=\"toolbar-btn-label\">Run</span></button> button to run the code cell."
   ]
  },
  {
   "cell_type": "code",
   "execution_count": null,
   "metadata": {},
   "outputs": [],
   "source": []
  },
  {
   "cell_type": "markdown",
   "metadata": {},
   "source": [
    "## Multiplication, Division and Exponents\n",
    "\n",
    "Python can complete multiplication, division and exponent calculations. To multiply two numbers in Python, use the asterisk ```*``` symbol ([Shift]+[8]), not an ```x```. If parenthesis are used in a multiplication calculation, the asterisk ```*``` symbol must be included as in ```4*(5-2)```. Note the symbol for exponents in Python is a double asterist ```**``` not the carrot symbol ```^```. To find the square root of a number, a fractional exponent can be specified.\n",
    "\n",
    "| mathematical opperator | name | description | example | result\n",
    "| --- | --- | --- | --- | --- |\n",
    "| ``` * ``` | multiplication | multiplies two numbers | ``` 5 * 2 ``` | ``` 10 ``` |\n",
    "| ``` / ``` | division | divides two numbers | ``` 6 / 3 ``` | ``` 2 ``` |\n",
    "| ``` ** ``` | exponents | raises a number to a power | ``` 10**2 ``` | ``` 100 ``` |"
   ]
  },
  {
   "cell_type": "markdown",
   "metadata": {},
   "source": [
    "### Multiplication, Division and Exponents Examples\n",
    "\n",
    "Try the following problems. Select the code cell by clicking on it. Type [Shift] + [Enter] or click the run <button class=\"btn btn-default\"><i class=\"fa-step-forward fa\"></i><span class=\"toolbar-btn-label\">Run</span></button> button to run the code cell."
   ]
  },
  {
   "cell_type": "code",
   "execution_count": 12,
   "metadata": {},
   "outputs": [
    {
     "data": {
      "text/plain": [
       "20"
      ]
     },
     "execution_count": 12,
     "metadata": {},
     "output_type": "execute_result"
    }
   ],
   "source": [
    "4 * 5"
   ]
  },
  {
   "cell_type": "code",
   "execution_count": 13,
   "metadata": {},
   "outputs": [
    {
     "data": {
      "text/plain": [
       "20"
      ]
     },
     "execution_count": 13,
     "metadata": {},
     "output_type": "execute_result"
    }
   ],
   "source": [
    "-4 * -5"
   ]
  },
  {
   "cell_type": "code",
   "execution_count": 14,
   "metadata": {},
   "outputs": [
    {
     "data": {
      "text/plain": [
       "-4.0"
      ]
     },
     "execution_count": 14,
     "metadata": {},
     "output_type": "execute_result"
    }
   ],
   "source": [
    "10 / -2.5"
   ]
  },
  {
   "cell_type": "code",
   "execution_count": 15,
   "metadata": {},
   "outputs": [
    {
     "data": {
      "text/plain": [
       "256"
      ]
     },
     "execution_count": 15,
     "metadata": {},
     "output_type": "execute_result"
    }
   ],
   "source": [
    "2**8"
   ]
  },
  {
   "cell_type": "code",
   "execution_count": 16,
   "metadata": {},
   "outputs": [
    {
     "data": {
      "text/plain": [
       "3.0"
      ]
     },
     "execution_count": 16,
     "metadata": {},
     "output_type": "execute_result"
    }
   ],
   "source": [
    "9**(1/2)"
   ]
  },
  {
   "cell_type": "markdown",
   "metadata": {},
   "source": [
    "Complete the following calculation in the cell below. Click in the cell before typing in the calculation\n",
    "\n",
    "$$ \\frac{6.039}{3} $$\n",
    "\n",
    "Type [Shift] + [Enter] or click the run <button class=\"btn btn-default\"><i class=\"fa-step-forward fa\"></i><span class=\"toolbar-btn-label\">Run</span></button> button to run the code cell."
   ]
  },
  {
   "cell_type": "code",
   "execution_count": null,
   "metadata": {},
   "outputs": [],
   "source": []
  },
  {
   "cell_type": "markdown",
   "metadata": {},
   "source": [
    "Complete the following calculation in the cell below. Click in the cell before typing in the calculation\n",
    "\n",
    "$$ \\frac{6.039}{3} $$\n",
    "\n",
    "Type [Shift] + [Enter] or click the run <button class=\"btn btn-default\"><i class=\"fa-step-forward fa\"></i><span class=\"toolbar-btn-label\">Run</span></button> button to run the code cell."
   ]
  },
  {
   "cell_type": "code",
   "execution_count": null,
   "metadata": {},
   "outputs": [],
   "source": []
  },
  {
   "cell_type": "markdown",
   "metadata": {},
   "source": [
    "Complete the following calculation in the cell below. Click in the cell before typing in the calculation\n",
    "\n",
    "$$ \\sqrt{20449} $$\n",
    "\n",
    "Type [Shift] + [Enter] or click the run <button class=\"btn btn-default\"><i class=\"fa-step-forward fa\"></i><span class=\"toolbar-btn-label\">Run</span></button> button to run the code cell."
   ]
  },
  {
   "cell_type": "code",
   "execution_count": null,
   "metadata": {},
   "outputs": [],
   "source": []
  },
  {
   "cell_type": "markdown",
   "metadata": {},
   "source": [
    "## Parenthesis, Order of Opperations and Scientific Notation\n",
    "\n",
    "Calculations in Python can include parenthesis ``` ( ) ``` and scientific notation ```6.02e23```. \n",
    "\n",
    "Opperations inside of parenthesis ``` ( ) ``` will be completed first. Subsequent calculations will follow the order of mathematical opperations. The Acronym **PEMDAS** helps us remember the order of opperations\n",
    "\n",
    " * **P** - Parenthesis\n",
    " * **E** - Exponents\n",
    " * **M** - Multiplication\n",
    " * **D** - Division\n",
    " * **A** - Addition\n",
    " * **S** - Subtraction\n",
    "\n",
    "Scientific notation can include a lowercase ```e``` or uppercase ```E```, both will form the same value.  ```6.02e23 = 6.02E23```. Negative numbers and zeros ``` 0 ``` can be included after the ```e``` as in ```8.13e-04```\n",
    "\n",
    "| mathematical opperator | name | description | example | result\n",
    "| --- | --- | --- | --- | --- |\n",
    "| ``` ( )``` | parenthesis | expression calculated first | ``` (4-2)-(2+2) ``` | ``` 8 ``` |\n",
    "| ``` e ``` | scientific notation | 10 raised to a power | ``` 4e2 ``` | ``` 400 ``` |\n",
    "| ``` E ``` | scientific notation | 10 raised to a power | ``` 5E-04 ``` | ``` 0.0005 ``` |"
   ]
  },
  {
   "cell_type": "markdown",
   "metadata": {},
   "source": [
    "### Parenthesis, Order of Opperations and Scientific Notation Examples\n",
    "\n",
    "Try the following problems. Select the code cell by clicking on it. Type [Shift] + [Enter] or click the run <button class=\"btn btn-default\"><i class=\"fa-step-forward fa\"></i><span class=\"toolbar-btn-label\">Run</span></button> button to run the code cell."
   ]
  },
  {
   "cell_type": "code",
   "execution_count": 17,
   "metadata": {},
   "outputs": [
    {
     "data": {
      "text/plain": [
       "0.9799382716049383"
      ]
     },
     "execution_count": 17,
     "metadata": {},
     "output_type": "execute_result"
    }
   ],
   "source": [
    "(6.7 - 0.35)/(6.7-0.22)"
   ]
  },
  {
   "cell_type": "code",
   "execution_count": 18,
   "metadata": {},
   "outputs": [
    {
     "data": {
      "text/plain": [
       "14.0"
      ]
     },
     "execution_count": 18,
     "metadata": {},
     "output_type": "execute_result"
    }
   ],
   "source": [
    "( 4e-2**(-1/2) ) + 9"
   ]
  },
  {
   "cell_type": "code",
   "execution_count": 19,
   "metadata": {},
   "outputs": [
    {
     "data": {
      "text/plain": [
       "11.499987237184376"
      ]
     },
     "execution_count": 19,
     "metadata": {},
     "output_type": "execute_result"
    }
   ],
   "source": [
    "((5.7e5 + 5.8e5) - (2.1*0.5)**5) / 1e5"
   ]
  },
  {
   "cell_type": "markdown",
   "metadata": {},
   "source": [
    "Complete the following calculation in the cell below. Click in the cell before typing in the calculation.\n",
    "\n",
    "$$ \\sqrt{\\frac{5.09 \\times 10^{-6}}{45 + 8}}  $$\n",
    "\n",
    "Type [Shift] + [Enter] or click the run <button class=\"btn btn-default\"><i class=\"fa-step-forward fa\"></i><span class=\"toolbar-btn-label\">Run</span></button> button to run the code cell."
   ]
  },
  {
   "cell_type": "markdown",
   "metadata": {},
   "source": [
    "Complete the following calculation in the code cell below:\n",
    "\n",
    "$$ \\frac{2 + 5 + 4.1 + 8}{4}^{-3} $$"
   ]
  },
  {
   "cell_type": "code",
   "execution_count": null,
   "metadata": {},
   "outputs": [],
   "source": []
  },
  {
   "cell_type": "markdown",
   "metadata": {},
   "source": [
    "Complete the following calculation in the code cell below:\n",
    "    \n",
    "$$\\frac{1+\\sqrt{0.4}}{1+2\\times 10^2}$$"
   ]
  },
  {
   "cell_type": "code",
   "execution_count": null,
   "metadata": {},
   "outputs": [],
   "source": []
  }
 ],
 "metadata": {
  "kernelspec": {
   "display_name": "Python 3",
   "language": "python",
   "name": "python3"
  },
  "language_info": {
   "codemirror_mode": {
    "name": "ipython",
    "version": 3
   },
   "file_extension": ".py",
   "mimetype": "text/x-python",
   "name": "python",
   "nbconvert_exporter": "python",
   "pygments_lexer": "ipython3",
   "version": "3.6.5"
  }
 },
 "nbformat": 4,
 "nbformat_minor": 2
}
