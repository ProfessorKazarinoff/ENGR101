{
 "cells": [
  {
   "cell_type": "markdown",
   "metadata": {},
   "source": [
    "# Notes Lab 7 - Calculations with Python"
   ]
  },
  {
   "cell_type": "markdown",
   "metadata": {},
   "source": [
    "In this set of notes you will learn how to make mathematical calculations with Python. Python can be used as a fancy type of calculator to help solve problems. Before diving into calculations, it's a good idea to do a quick review of the notes: [What is Python?](Introduction_to_Python.ipynb) and [How to use a Jupyter notebook](Introduction_to_Jupyter_Notebooks.ipynb)."
   ]
  },
  {
   "cell_type": "markdown",
   "metadata": {},
   "source": [
    "## Addition and Subtraction\n",
    "\n",
    "Python can be used to complete addition and subtraction problems. The following mathematical operators will add and subtract numbers. The minus sign ```-``` is used for both subtraction and to define negative numbers. Spaces between numbers and the addition or subtraction sign are optional. ```2 + 3``` and ```2+3``` output the same result.\n",
    "\n",
    "| mathematical operator | name | description | example | result |\n",
    "| --- | --- | --- | --- | --- |\n",
    "| ``` + ``` | addition | adds two numbers | ```2 + 3 ``` | ```5``` |\n",
    "| ``` - ``` | subtraction | subtracts two numbers | ```8 - 6 ``` | ```2``` |\n",
    "| ``` - ``` | negation | negative number | ```-4``` | ```-4``` |"
   ]
  },
  {
   "cell_type": "markdown",
   "metadata": {},
   "source": [
    "### Addition and Subtraction Examples\n",
    "\n",
    "Try the following problems. Select the code cell by clicking on it. Type [Shift] + [Enter] or click the <button class=\"btn btn-default\"><i class=\"fa-step-forward fa\"></i><span class=\"toolbar-btn-label\">Run</span></button> button to run the code cell."
   ]
  },
  {
   "cell_type": "code",
   "execution_count": null,
   "metadata": {},
   "outputs": [],
   "source": [
    "2 + 3"
   ]
  },
  {
   "cell_type": "code",
   "execution_count": null,
   "metadata": {},
   "outputs": [],
   "source": [
    "100 + -45"
   ]
  },
  {
   "cell_type": "code",
   "execution_count": null,
   "metadata": {},
   "outputs": [],
   "source": [
    "60 - 15"
   ]
  },
  {
   "cell_type": "code",
   "execution_count": null,
   "metadata": {},
   "outputs": [],
   "source": [
    "-12 - 712"
   ]
  },
  {
   "cell_type": "markdown",
   "metadata": {},
   "source": [
    "Complete the following calculation in the cell below. Click in the code cell before typing in the calculation.\n",
    "\n",
    "$$ 0.76 - 0.02 $$\n",
    "\n",
    "Type [Shift] + [Enter] or click the run <button class=\"btn btn-default\"><i class=\"fa-step-forward fa\"></i><span class=\"toolbar-btn-label\">Run</span></button> button to run the code in the cell."
   ]
  },
  {
   "cell_type": "code",
   "execution_count": null,
   "metadata": {},
   "outputs": [],
   "source": []
  },
  {
   "cell_type": "markdown",
   "metadata": {},
   "source": [
    "## Multiplication, Division and Exponents\n",
    "\n",
    "Python can complete multiplication, division and exponent calculations. To multiply two numbers in Python, use the asterisk ```*``` symbol ([Shift]+[8]), not an ```x```. If parenthesis are used in a multiplication calculation, the asterisk ```*``` symbol must still be included as in ```4*(5-2)```. The symbol for exponents in Python is a double asterisk ```**``` not the carrot symbol ```^```. To find the square root of a number, a fractional exponent of 1/2 or 0.5 can be specified, as in ```16**(1/2)```.\n",
    "\n",
    "| mathematical operator | name | description | example | result |\n",
    "| --- | --- | --- | --- | --- |\n",
    "| ``` * ``` | multiplication | multiplies two numbers | ``` 5 * 2 ``` | ``` 10 ``` |\n",
    "| ``` / ``` | division | divides two numbers | ``` 6 / 3 ``` | ``` 2 ``` |\n",
    "| ``` ** ``` | exponents | raises a number to a power | ``` 10**2 ``` | ``` 100 ``` |"
   ]
  },
  {
   "cell_type": "markdown",
   "metadata": {},
   "source": [
    "### Multiplication, Division and Exponents Examples\n",
    "\n",
    "Try the following problems. Select the code cell by clicking on it. Type [Shift] + [Enter] or click the run <button class=\"btn btn-default\"><i class=\"fa-step-forward fa\"></i><span class=\"toolbar-btn-label\">Run</span></button> button to run the code cell."
   ]
  },
  {
   "cell_type": "code",
   "execution_count": null,
   "metadata": {},
   "outputs": [],
   "source": [
    "4 * 5"
   ]
  },
  {
   "cell_type": "code",
   "execution_count": null,
   "metadata": {},
   "outputs": [],
   "source": [
    "-4 * -5"
   ]
  },
  {
   "cell_type": "code",
   "execution_count": null,
   "metadata": {},
   "outputs": [],
   "source": [
    "10 / -2.5"
   ]
  },
  {
   "cell_type": "code",
   "execution_count": null,
   "metadata": {},
   "outputs": [],
   "source": [
    "2**8"
   ]
  },
  {
   "cell_type": "code",
   "execution_count": null,
   "metadata": {},
   "outputs": [],
   "source": [
    "9**(0.5)"
   ]
  },
  {
   "cell_type": "markdown",
   "metadata": {},
   "source": [
    "Complete the following calculation in the cell below. Click in the code cell before typing in the calculation.\n",
    "\n",
    "$$ \\frac{6.039}{3} $$\n",
    "\n",
    "Type [Shift] + [Enter] or click the run <button class=\"btn btn-default\"><i class=\"fa-step-forward fa\"></i><span class=\"toolbar-btn-label\">Run</span></button> button to run the code cell."
   ]
  },
  {
   "cell_type": "code",
   "execution_count": null,
   "metadata": {},
   "outputs": [],
   "source": []
  },
  {
   "cell_type": "markdown",
   "metadata": {},
   "source": [
    "Complete the following calculation in the cell below. Click in the code cell before typing in the calculation. \n",
    "\n",
    "$$ 4.02 \\times 0.5 \\times 9.1 $$\n",
    "\n",
    "Type [Shift] + [Enter] or click the run <button class=\"btn btn-default\"><i class=\"fa-step-forward fa\"></i><span class=\"toolbar-btn-label\">Run</span></button> button to run the code cell."
   ]
  },
  {
   "cell_type": "code",
   "execution_count": null,
   "metadata": {},
   "outputs": [],
   "source": []
  },
  {
   "cell_type": "markdown",
   "metadata": {},
   "source": [
    "Complete the following calculation in the cell below. Click in the code cell before typing in the calculation.\n",
    "\n",
    "$$ \\sqrt{20449} $$\n",
    "\n",
    "Type [Shift] + [Enter] or click the run <button class=\"btn btn-default\"><i class=\"fa-step-forward fa\"></i><span class=\"toolbar-btn-label\">Run</span></button> button to run the code cell."
   ]
  },
  {
   "cell_type": "code",
   "execution_count": null,
   "metadata": {},
   "outputs": [],
   "source": []
  },
  {
   "cell_type": "markdown",
   "metadata": {},
   "source": [
    "## Parenthesis, Order of Operations and Scientific Notation\n",
    "\n",
    "Calculations in Python can include parenthesis ``` ( ) ``` and scientific notation ```6.02e23```. \n",
    "\n",
    "Operations inside of parenthesis ``` ( ) ``` will be completed first. Subsequent calculations follow the regular order of mathematical operations. The Acronym **PEMDAS** helps us remember the order of operations:\n",
    "\n",
    " * **P** - Parenthesis\n",
    " * **E** - Exponents\n",
    " * **M** - Multiplication\n",
    " * **D** - Division\n",
    " * **A** - Addition\n",
    " * **S** - Subtraction\n",
    "\n",
    "Scientific notation can include a lowercase ```e``` or an uppercase ```E```, both indicate the same value.  ```6.02e23 = 6.02E23```. Negative numbers and zeros can be included after the ```e``` as in ```8.13e-04```. A coefficient must be placed in front of the ```e``` as in ```1e-9```. The expression ```e-9``` will return an error.\n",
    "\n",
    "| mathematical operator | name | description | example | result |\n",
    "| --- | --- | --- | --- | --- |\n",
    "| ``` ( )``` | parenthesis | expression calculated first | ``` (4-2)*(2+2) ``` | ``` 8 ``` |\n",
    "| ``` e ``` | scientific notation | 10 raised to a power | ``` 4e2 ``` | ``` 400 ``` |\n",
    "| ``` E ``` | scientific notation | 10 raised to a power | ``` 5E-04 ``` | ``` 0.0005 ``` |"
   ]
  },
  {
   "cell_type": "markdown",
   "metadata": {},
   "source": [
    "### Parenthesis, Order of Opperations and Scientific Notation Examples\n",
    "\n",
    "Try the following problems. Select the code cell by clicking on it. Type [Shift] + [Enter] or click the run <button class=\"btn btn-default\"><i class=\"fa-step-forward fa\"></i><span class=\"toolbar-btn-label\">Run</span></button> button to run the code cell."
   ]
  },
  {
   "cell_type": "code",
   "execution_count": null,
   "metadata": {},
   "outputs": [],
   "source": [
    "(6.7 - 0.35)/(6.7-0.22)"
   ]
  },
  {
   "cell_type": "code",
   "execution_count": null,
   "metadata": {},
   "outputs": [],
   "source": [
    "( 4e-2**(-1/2) ) + 9"
   ]
  },
  {
   "cell_type": "code",
   "execution_count": null,
   "metadata": {},
   "outputs": [],
   "source": [
    "((5.7e5 + 5.8e5) - (2.1*0.5)**5) / 1e5"
   ]
  },
  {
   "cell_type": "markdown",
   "metadata": {},
   "source": [
    "Complete the following calculation in the cell below. Click in the code cell before typing in the calculation.\n",
    "\n",
    "$$ \\sqrt{\\frac{5.09 \\times 10^{-6}}{45 + 8}}  $$\n",
    "\n",
    "Type [Shift] + [Enter] or click the run <button class=\"btn btn-default\"><i class=\"fa-step-forward fa\"></i><span class=\"toolbar-btn-label\">Run</span></button> button to run the code cell."
   ]
  },
  {
   "cell_type": "code",
   "execution_count": null,
   "metadata": {},
   "outputs": [],
   "source": []
  },
  {
   "cell_type": "markdown",
   "metadata": {},
   "source": [
    "Complete the following calculation in the code cell below:\n",
    "\n",
    "$$ \\frac{2 + 5 + 4.1 + 8}{4}^{-3} $$"
   ]
  },
  {
   "cell_type": "code",
   "execution_count": null,
   "metadata": {},
   "outputs": [],
   "source": []
  },
  {
   "cell_type": "markdown",
   "metadata": {},
   "source": [
    "Complete the following calculation in the code cell below:\n",
    "    \n",
    "$$\\frac{1+\\sqrt{0.4}}{1+2\\times 10^2}$$"
   ]
  },
  {
   "cell_type": "code",
   "execution_count": null,
   "metadata": {},
   "outputs": [],
   "source": []
  },
  {
   "cell_type": "markdown",
   "metadata": {},
   "source": [
    "## Integers, Floats and Variables\n",
    "\n",
    "So far we have used two different types of numbers in our calculations: Integers such as ```4```, ```0```, ```-5``` and decimals such as ```3.14```, ```0.002```, ```-7e-9```. Python has two different _data types_ for these two different types of numbers: ```int``` and ```float```. ```int``` stands for _integer_. An integer in Python is similar to an integer in math. Integers are whole numbers including zero. ```float``` stands for _floating point number_. A floating point number is decimal number that can be represented by a coefficient and an exponent. For example $3.2 \\times 10^4$ is a floating point number. The coefficient is $3.2$ and the exponent is $4$. Any decimal number can be described using a coefficient and an exponent.\n",
    "\n",
    " * ```int``` - integer data type. Whole numbers: positive, negative and zero\n",
    " * ```float``` - floating point number data type. Decimal numbers: positive, negative and zero\n",
    " \n",
    "In Python, integers are declared using whole numbers. Floating point numbers are declared when a number contains a decimal point or a number is expressed in scientific notation. Note a decimal point ```.``` can be placed after a whole number as in ```4.``` in order to declare the number as a float.\n",
    "\n",
    "| example | data type |\n",
    "| --- | --- |\n",
    "| 5 | int |\n",
    "| -3 | int |\n",
    "| 0 | int |\n",
    "| 0.932 | float |\n",
    "| 5e2 | float |\n",
    "| 4. | float |\n",
    "\n",
    "When doing calculations with Python, numbers can be automatically converted from one numeric data type to another. For example, if we divide two integers by each other that are not evenly divisible, such as ```5 / 2```, the solution is a float ```2.5```. \n",
    "\n",
    "To convert between the two number data types we can use two built in Python _functions_  ```float()``` and ```int()``` .  The ```int()``` function turns floats into whole numbers. When calling one of these functions, the syntax is:\n",
    "\n",
    "```\n",
    "<function name>(input)\n",
    "\n",
    "```\n",
    "\n",
    "Where ```<function name>``` is the name of the function and the function ```input``` is surrounded by parenthesis. The values you provide as the input for a function are called input _arguments_.\n",
    "\n",
    "```\n",
    "float(5)\n",
    "5.0\n",
    "int(4.1)\n",
    "4\n",
    "```\n",
    "\n",
    "Note that when Python applies the ```int()``` function, the decimal portion of number is truncated, not rounded.\n",
    "\n",
    "```\n",
    "int(5.7)\n",
    "5\n",
    "int(1.999)\n",
    "1\n",
    "```\n",
    "\n",
    "| Python Function | description | example | output |\n",
    "| --- | --- | --- | --- |\n",
    "| ```float()``` | converts a number to the float data type | ```float(24)``` | ```24``` |\n",
    "| ```int()``` | converts a number to the integer data type  | ```int(5.2)``` | ```5``` |"
   ]
  },
  {
   "cell_type": "markdown",
   "metadata": {},
   "source": [
    "### Variables\n",
    "\n",
    "Numbers in Python can be stored in _variables_. In Python, variables are assigned using the _assignment operator_, which is the equals sign ```=```. The variable name is written first on the left, the equals sign is added next in the middle, and the number is written last on the right.\n",
    "\n",
    "In the code below, the variable ```n``` is assigned the value ```4```.\n",
    "\n",
    "```\n",
    "n = 4\n",
    "```\n",
    "\n",
    "Variables in Python must start with a letter, and can only contain letters, numbers and the underscore character ```_```. \n",
    "\n",
    "#### Python Variable Naming Rules:\n",
    "\n",
    " * must start with a letter\n",
    " * can only contain letters, numbers and underscores ```_```\n",
    " * no spaces\n",
    "\n",
    "Examples of variable assignment:\n",
    "\n",
    "```\n",
    "test_score = 89\n",
    "test1 = 74\n",
    "test2 = 90\n",
    "```\n",
    "\n",
    "The variable assignment below throws and error. The variable name ```1st_test_grade``` starts with a number.\n",
    "\n",
    "```\n",
    "1st_test_grade = 82\n",
    "\n",
    "SyntaxError: invalid syntax\n",
    "```\n",
    "\n",
    "Once a variable is defined, it can be used in subsequent calculations:"
   ]
  },
  {
   "cell_type": "code",
   "execution_count": null,
   "metadata": {},
   "outputs": [],
   "source": [
    "a = 2\n",
    "b = 4\n",
    "a + b"
   ]
  },
  {
   "cell_type": "markdown",
   "metadata": {},
   "source": [
    "#### Variable Naming Convensions\n",
    "\n",
    "Although not strictly enforced, there are a couple naming conventions for Python variables:\n",
    "\n",
    "##### Python Variable Naming Conventions\n",
    "\n",
    "* keep variable names short, but descriptive\n",
    "* variables should start with a lower case letter, unless they are global constants that do not change (see below)\n",
    "* global contants that do not change should contain all UPPERCASE_LETTERS\n",
    "* The underscore ```_``` and double underscore ```___``` should **not be used** at the **start** or **end** of variable names. Double underscore has special meaning in Python. \n",
    "* The underscore ```_``` **can be used** in the middle of a ```variable_name```."
   ]
  },
  {
   "cell_type": "markdown",
   "metadata": {},
   "source": [
    "### Variable Examples\n",
    "\n",
    "Try the following problems. Select the code cell by clicking on it. Type [Shift] + [Enter] or click the run <button class=\"btn btn-default\"><i class=\"fa-step-forward fa\"></i><span class=\"toolbar-btn-label\">Run</span></button> button to run the code cell."
   ]
  },
  {
   "cell_type": "code",
   "execution_count": null,
   "metadata": {},
   "outputs": [],
   "source": [
    "r = 5\n",
    "pi = 3.14\n",
    "pi*r**2"
   ]
  },
  {
   "cell_type": "code",
   "execution_count": null,
   "metadata": {},
   "outputs": [],
   "source": [
    "age = 65\n",
    "retire_age = 72\n",
    "retire_age - age"
   ]
  },
  {
   "cell_type": "markdown",
   "metadata": {},
   "source": [
    "Complete the following calculation in the code cell below:\n",
    "    \n",
    "A triagle has a base of 5 and a height of 4. Define the base and height of the triangle using varaibles and calculate the area of the triangle according to the formula:\n",
    "\n",
    "$$ A = \\frac{1}{2}bh $$"
   ]
  },
  {
   "cell_type": "code",
   "execution_count": null,
   "metadata": {},
   "outputs": [],
   "source": []
  },
  {
   "cell_type": "markdown",
   "metadata": {},
   "source": [
    "Complete the following calculation in the code cell below:\n",
    "\n",
    "For an object in free-fall, the distance the object falls $s$ is related to the time $t$ the object falls and the acceleration due to gravity $g$, which is equal to $ 9.81 \\ \\frac{m}{s^2}$ on earth. \n",
    "\n",
    "$$ s = \\frac{1}{2}gt^2 $$\n",
    "\n",
    "$$ g = 9.81 \\ \\frac{m}{s^2} $$\n",
    "\n",
    "Calculate the distance $s$ a ball falls in ```12``` seconds.  "
   ]
  },
  {
   "cell_type": "code",
   "execution_count": null,
   "metadata": {},
   "outputs": [],
   "source": []
  },
  {
   "cell_type": "markdown",
   "metadata": {},
   "source": [
    "## Exponents  and Logarithms\n",
    "\n",
    "So far we have used _built-in_ mathematical operators such as ```+```, ```-``` and ```**```. To complete calculations involving exponents and logarithms in Python, we need more functionality than is available using simple built-in operators.\n",
    "\n",
    "Exponent and logarithm calculations can be accomplished using the Python **math** _module_. A module in Python is a set of functions (also methods and classes) that can be imported and used in a program. The **math** module is part of the Python _Standard Library_.  The Python Standard Library are all the modules that come with Python. Even though the Standard Library modules come with Python, these modules must be imported before they are used. \n",
    "\n",
    "### Importing the **math** module\n",
    "\n",
    "To import the **math** module, use the line:\n",
    "\n",
    "```\n",
    "import math\n",
    "```\n",
    "\n",
    "The ```import``` line must be added at the start of a Python script. Once the **math** module has been imported, _dot notation_ is used to access the **math** module functions. Dot notation takes the form of:\n",
    "\n",
    "```\n",
    "<module>.<function>()\n",
    "```\n",
    "\n",
    "Where ```<module>``` is the name of the module, and ```<function>``` is the name of the function. For example, the **math** module contain the ```log()``` function. To calculate the ```log()``` of ```10```, code:\n",
    "\n",
    "```\n",
    "import math\n",
    "math.log(10)\n",
    "```\n",
    "\n",
    "Note the **math** module must be imported before the ```math.log()``` function is used. Once a module has been imported, it does not need to be imported again for the rest of the program. \n",
    "\n",
    "### **Math** module functions\n",
    "\n",
    "The following functions are part of the **math** module:\n",
    "\n",
    "\n",
    "| math module function | name | description | example | result |\n",
    "| --- | --- | --- | --- | --- |\n",
    "| ``` math.pi ``` | pi | mathematical constant $\\pi$ | ``` math.pi ``` | ``` 3.1415 ``` |\n",
    "| ``` math.e ``` | Euler's number | mathematical constant $e$ | ``` math.e ``` | ``` 2.718 ``` |\n",
    "| ``` math.exp() ``` | exponent | $e$ raised to a power | ``` math.exp(2.2) ``` | ``` 9.025 ``` |\n",
    "| ``` math.log() ``` | natural logarithm | log base $e$ | ``` math.log(3.1) ``` | ``` 400 ``` |\n",
    "| ``` math.log10() ``` | base 10 logarithm | log base 10 | ``` math.log10(100) ``` | ``` 2.0 ``` |\n",
    "| ``` math.sqrt() ``` | square root | square root of a number | ``` math.sqrt(16) ``` | ``` 4.0 ``` |"
   ]
  },
  {
   "cell_type": "markdown",
   "metadata": {},
   "source": [
    "### Exponent  and Logarithm Examples\n",
    "\n",
    "Try the following problems. Select the code cell by clicking on it. Type [Shift] + [Enter] or click the run <button class=\"btn btn-default\"><i class=\"fa-step-forward fa\"></i><span class=\"toolbar-btn-label\">Run</span></button> button to run the code cell."
   ]
  },
  {
   "cell_type": "code",
   "execution_count": null,
   "metadata": {},
   "outputs": [],
   "source": [
    "import math\n",
    "math.log10(10e7)"
   ]
  },
  {
   "cell_type": "code",
   "execution_count": null,
   "metadata": {},
   "outputs": [],
   "source": [
    "import math\n",
    "math.log(math.e)"
   ]
  },
  {
   "cell_type": "code",
   "execution_count": null,
   "metadata": {},
   "outputs": [],
   "source": [
    "import math\n",
    "v0 = 2.0e3\n",
    "R = 8.31\n",
    "Qv = 4.6e3\n",
    "T = 800\n",
    "\n",
    "v0 * math.exp(-Qv/(R*T))"
   ]
  },
  {
   "cell_type": "markdown",
   "metadata": {},
   "source": [
    "Complete the following in the code cell below:\n",
    "\n",
    "pH is a measure of the acidity of solution. $pH$ is related to hydrogen ion $H^+$ concentration according to: \n",
    "\n",
    "\n",
    "$$ pH = -log_{10}(H^+) $$\n",
    "\n",
    "Using the **math** module, calculate the $pH$ of a solution with a hydrogen ion $H^+$ concentration of $H^+ = 5.4 \\times 10^{6}$. Although not absolutely necessary, ```import``` the **math** module at the start of the code cell for practice."
   ]
  },
  {
   "cell_type": "code",
   "execution_count": null,
   "metadata": {},
   "outputs": [],
   "source": []
  },
  {
   "cell_type": "markdown",
   "metadata": {},
   "source": [
    "Complete the following in the code cell below:\n",
    "\n",
    "The diffusion constant $D$ is related to temperature $T$ in the following way:\n",
    "\n",
    "$$ D = D_{0}e^{\\frac{-Q_d}{RT}} $$\n",
    "\n",
    "Where $D_{0}$ is a pre-exponential term, $Q_d$ is the activation energy of diffision, and $R$ is the universal gas constant. ($e$ is the mathematical constant, Euler's number).  \n",
    "\n",
    "Using the math module, calculate the diffusion constant $D$ given:\n",
    "\n",
    "$$ D_{0} = 5.2 \\times 10^{-3} $$\n",
    "\n",
    "$$ Q_d = 14,200 $$\n",
    "\n",
    "$$ R = 8.31 $$\n",
    "\n",
    "$$ T = 293 $$\n",
    "\n",
    "Although not absolutly necessary, import the math module at the start of the code cell for practice.\n"
   ]
  },
  {
   "cell_type": "code",
   "execution_count": null,
   "metadata": {},
   "outputs": [],
   "source": []
  },
  {
   "cell_type": "markdown",
   "metadata": {},
   "source": [
    "## Trig Functions\n",
    "\n",
    "The Python **math** module also contains many trig functions.\n",
    "\n",
    "| trig function | name | description | example | result\n",
    "| --- | --- | --- | --- | --- |\n",
    "| ``` math.pi ``` | pi | mathematical constant $\\pi$ | ``` math.pi ``` | ``` 3.14 ``` |\n",
    "| ``` math.sin() ``` | sine | sine of an angle in radians | ``` math.sin(4) ``` | ``` -0.75680 ``` |\n",
    "| ``` math.cos() ``` | cosine | cosine of an angle in radians | ``` math.cos(0) ``` | ``` 1.0 ``` |\n",
    "| ``` math.tan() ``` | tangent | tangent of an angle in radians | ``` math.tan(0.5) ``` | ``` 0.54630 ``` |\n",
    "| ``` math.asin() ``` | arc sine | inverse sine, ouput in radians | ``` math.asin(-1) ``` | ``` -1.5707 ``` |\n",
    "| ``` math.acos() ``` | arc cosine | inverse cosine, ouput in radians | ``` math.acos(-1/2) ``` | ``` 2.0943 ``` |\n",
    "| ``` math.atan() ``` | arc tangent | inverse tangent, ouput in radians | ``` math.atan(3/4) ``` | ``` 0.64350 ``` |\n",
    "| ``` math.degress() ``` | degree conversion | radians to degrees. in: radians out: degrees | ``` math.degrees(math.pi) ``` | ``` 180.0 ``` |\n",
    "| ``` math.radians() ``` | radians conversion | degrees to radians. in: degrees out: radians | ``` math.radians(90) ``` | ``` 1.5707 ``` |\n",
    "\n",
    "Try a couple of calculations using trig fuctions from the **math** module."
   ]
  },
  {
   "cell_type": "code",
   "execution_count": null,
   "metadata": {},
   "outputs": [],
   "source": []
  },
  {
   "cell_type": "code",
   "execution_count": null,
   "metadata": {},
   "outputs": [],
   "source": []
  },
  {
   "cell_type": "markdown",
   "metadata": {},
   "source": [
    "## Special Operators: % and //\n",
    "\n",
    "In Python, there are two additional math operators besides ```+```, ```-```, ```*```, ```/```, and ```**```. These operators are the  remainder operator ```%``` and the floor division operator ```//```. The remainder operator ```%``` does what it says, it calculates the remainder after two numbers are divided. The floor division operator ```//``` removes any fractional or decimal remainder after division.\n",
    "\n",
    "#### Two Examples\n",
    "\n",
    "$5 \\div 2 = 2.5$\n",
    "\n",
    "Two goes into five two times leaving a remainder of 1.\n",
    "\n",
    "```\n",
    "5 % 2 = 1\n",
    "```\n",
    "\n",
    "Five divided by two is 2.5. If we take off the fractional or decimal remainder, which is 0.5, we are left with 2.\n",
    "\n",
    "```\n",
    "5 // 2 = 2\n",
    "```\n"
   ]
  },
  {
   "cell_type": "code",
   "execution_count": null,
   "metadata": {},
   "outputs": [],
   "source": [
    "5 // 2 "
   ]
  },
  {
   "cell_type": "code",
   "execution_count": null,
   "metadata": {},
   "outputs": [],
   "source": [
    "5 % 2"
   ]
  },
  {
   "cell_type": "markdown",
   "metadata": {},
   "source": [
    "## Summary\n",
    "\n",
    "In this section, you learned how to complete mathematical calculations using Python.\n",
    "\n",
    " * Arithmetic calculations are accomplished using ```+```, ```-```, ```/``` and ```*```\n",
    " * Exponents in are assigned with a double asterisk ```**``` not a carrot ```^```\n",
    " * Parenthesis ```()``` can be used to control the order of operations\n",
    " * Numbers can be saved in variables for use in calculations\n",
    " * Two numeric data types are _float_ and _int_. Floats are decimals, ints are whole numbers.\n",
    " * The **math** module must be imported before it can be used\n",
    " * Dot ```.``` notation is used to call functions that are part of imported modules\n",
    " * The **math** module contains exponent, log and trig functions"
   ]
  },
  {
   "cell_type": "markdown",
   "metadata": {},
   "source": [
    "## References and Going Further\n",
    "\n",
    "The official documentation for Python's **math** module is found here:\n",
    "\n",
    "> [https://docs.python.org/3/library/math.html](https://docs.python.org/3/library/math.html)\n",
    "\n",
    "\n",
    "Python includes many statistics functions in the **statistics** module. One example, is the ```mean()``` function:\n",
    "\n",
    "```\n",
    "from statistics import mean\n",
    "a = [40, 52, 68, 43]\n",
    "mean(a)\n",
    "50.75\n",
    "```\n",
    "\n",
    "Additional statistics functions can be found in Python's **statistics** module docs:\n",
    "\n",
    "> [https://docs.python.org/3/library/statistics.html](https://docs.python.org/3/library/statistics.html)\n",
    "\n",
    "A nice tutorial on Python data types, including integers and floats is posted on the site Real Python:\n",
    "\n",
    "> [https://realpython.com/python-data-types/](https://realpython.com/python-data-types/)\n",
    "\n",
    "The **NumPy** package contains many more mathematical functions, including the mathematical manipulation of matrices. An example using **NumPy's** dot product function ```dot()``` is below:\n",
    "\n",
    "```\n",
    "import numpy as np\n",
    "F1 = np.array([2, 3, 5])\n",
    "F2 = np.array([0, -1, 2])\n",
    "np.dot(F1,F2)\n",
    "7\n",
    "```\n",
    "\n",
    "The documentation for the **NumPy** package is found here:\n",
    "\n",
    "> [https://docs.scipy.org/doc/numpy/user/quickstart.html](https://docs.scipy.org/doc/numpy/user/quickstart.html)"
   ]
  },
  {
   "cell_type": "code",
   "execution_count": null,
   "metadata": {},
   "outputs": [],
   "source": []
  }
 ],
 "metadata": {
  "kernelspec": {
   "display_name": "Python 3",
   "language": "python",
   "name": "python3"
  },
  "language_info": {
   "codemirror_mode": {
    "name": "ipython",
    "version": 3
   },
   "file_extension": ".py",
   "mimetype": "text/x-python",
   "name": "python",
   "nbconvert_exporter": "python",
   "pygments_lexer": "ipython3",
   "version": "3.6.7"
  }
 },
 "nbformat": 4,
 "nbformat_minor": 2
}
