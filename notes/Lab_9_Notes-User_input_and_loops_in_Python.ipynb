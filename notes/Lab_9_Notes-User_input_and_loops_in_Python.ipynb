{
 "cells": [
  {
   "cell_type": "markdown",
   "metadata": {},
   "source": [
    "# Lab 9 Notes: User input and loops in Python"
   ]
  },
  {
   "cell_type": "markdown",
   "metadata": {},
   "source": [
    "In this set of notes you will learn how to ask users for input and process the user input using loops."
   ]
  },
  {
   "cell_type": "markdown",
   "metadata": {},
   "source": [
    "## The ```input()``` function\n",
    "\n",
    "Python can be used to interact with users, ask for input, run tasks based on the input and then provide the user with output. One way to solicate input from users is to utilize the ```input()``` function. A typical ```input()``` statement is below:\n",
    "\n",
    "```\n",
    "var = input('What is your name?')\n",
    "```\n",
    "\n",
    "Where the prompt ```'What is your name?'``` is the text the user sees, and ```var``` is the variable that stores what the user types. Try running the code cell below:"
   ]
  },
  {
   "cell_type": "code",
   "execution_count": 1,
   "metadata": {},
   "outputs": [
    {
     "name": "stdout",
     "output_type": "stream",
     "text": [
      "What is your name?Peter\n",
      "It is nice to meet you:\n",
      "Peter\n"
     ]
    }
   ],
   "source": [
    "var = input('What is your name?')\n",
    "print('It is nice to meet you:')\n",
    "print(var)"
   ]
  },
  {
   "cell_type": "code",
   "execution_count": 2,
   "metadata": {},
   "outputs": [
    {
     "name": "stdout",
     "output_type": "stream",
     "text": [
      "How old are you?40\n",
      "40\n",
      "is a great age to learn\n"
     ]
    }
   ],
   "source": [
    "age = input('How old are you?')\n",
    "print(age)\n",
    "print('is a great age to learn')"
   ]
  },
  {
   "cell_type": "markdown",
   "metadata": {},
   "source": [
    "To print the user's input back to them on the same line, we'll use a Python construct called **f-strings**\n",
    "\n",
    "## f-strings\n",
    "\n",
    "Run the code in the cell below and notice the output"
   ]
  },
  {
   "cell_type": "code",
   "execution_count": 4,
   "metadata": {},
   "outputs": [
    {
     "name": "stdout",
     "output_type": "stream",
     "text": [
      "What month were you born in?Feb\n",
      "The month of Feb is a great time to have a birthday\n"
     ]
    }
   ],
   "source": [
    "mon = input('What month were you born in?')\n",
    "print(f'The month of {mon} is a great time to have a birthday')"
   ]
  },
  {
   "cell_type": "markdown",
   "metadata": {},
   "source": [
    "Note the ```f' '``` before the string. Placing an ```f``` before the quotes that denote a string defines the string as an _f-string_.\n",
    "\n",
    "An f-string is a Python concept that allows variables and expressions (like math operations) to be inserted inside a string.  The ```f``` does not get printed. It indicates to Python that variables are going to be inserted into the string. A set of curly braces ```{  }``` is need to surround any variables or expressions that will become part of the string.\n",
    "\n",
    "Using f-strings, we can ask the user for multiple pieces of input and print them all out in the same line."
   ]
  },
  {
   "cell_type": "code",
   "execution_count": 10,
   "metadata": {},
   "outputs": [
    {
     "name": "stdout",
     "output_type": "stream",
     "text": [
      "What month were you born in?\n",
      "What day were you born on?\n",
      "Your birthday is on  \n"
     ]
    }
   ],
   "source": [
    "month = input('What month were you born in?')\n",
    "day = input('What day were you born on?')\n",
    "print(f'Your birthday is on {month} {day}')"
   ]
  },
  {
   "cell_type": "markdown",
   "metadata": {},
   "source": [
    "We can also run methods and functions on the inside of the curly braces that are part of f-strings. The ```str.uppper()``` method will convert a string to all uppercase. We can use this method on the inside of an f-string."
   ]
  },
  {
   "cell_type": "code",
   "execution_count": 11,
   "metadata": {},
   "outputs": [
    {
     "name": "stdout",
     "output_type": "stream",
     "text": [
      "What is your name?\n",
      "nice to meet you uppercase \n"
     ]
    }
   ],
   "source": [
    "name = input('What is your name?')\n",
    "print(f'nice to meet you uppercase {name.upper()}')"
   ]
  },
  {
   "cell_type": "markdown",
   "metadata": {},
   "source": [
    "Let's do something more useful. How about we ask for the base and height of a triagble and print back the area of the triangle."
   ]
  },
  {
   "cell_type": "code",
   "execution_count": 12,
   "metadata": {},
   "outputs": [
    {
     "name": "stdout",
     "output_type": "stream",
     "text": [
      "base: \n",
      "height: \n"
     ]
    },
    {
     "ename": "TypeError",
     "evalue": "can't multiply sequence by non-int of type 'float'",
     "output_type": "error",
     "traceback": [
      "\u001b[0;31m---------------------------------------------------------------------------\u001b[0m",
      "\u001b[0;31mTypeError\u001b[0m                                 Traceback (most recent call last)",
      "\u001b[0;32m<ipython-input-12-f298d57a9da5>\u001b[0m in \u001b[0;36m<module>\u001b[0;34m()\u001b[0m\n\u001b[1;32m      1\u001b[0m \u001b[0mb\u001b[0m \u001b[0;34m=\u001b[0m \u001b[0minput\u001b[0m\u001b[0;34m(\u001b[0m\u001b[0;34m'base: '\u001b[0m\u001b[0;34m)\u001b[0m\u001b[0;34m\u001b[0m\u001b[0m\n\u001b[1;32m      2\u001b[0m \u001b[0mh\u001b[0m \u001b[0;34m=\u001b[0m \u001b[0minput\u001b[0m\u001b[0;34m(\u001b[0m\u001b[0;34m'height: '\u001b[0m\u001b[0;34m)\u001b[0m\u001b[0;34m\u001b[0m\u001b[0m\n\u001b[0;32m----> 3\u001b[0;31m \u001b[0mA\u001b[0m \u001b[0;34m=\u001b[0m \u001b[0;34m(\u001b[0m\u001b[0;36m1\u001b[0m\u001b[0;34m/\u001b[0m\u001b[0;36m2\u001b[0m\u001b[0;34m)\u001b[0m\u001b[0;34m*\u001b[0m\u001b[0mb\u001b[0m \u001b[0;34m*\u001b[0m \u001b[0mh\u001b[0m\u001b[0;34m\u001b[0m\u001b[0m\n\u001b[0m\u001b[1;32m      4\u001b[0m \u001b[0mprint\u001b[0m\u001b[0;34m(\u001b[0m\u001b[0;34mf'Area = {A}'\u001b[0m\u001b[0;34m)\u001b[0m\u001b[0;34m\u001b[0m\u001b[0m\n",
      "\u001b[0;31mTypeError\u001b[0m: can't multiply sequence by non-int of type 'float'"
     ]
    }
   ],
   "source": [
    "b = input('base: ')\n",
    "h = input('height: ')\n",
    "A = (1/2)*b * h\n",
    "print(f'Area = {A}')"
   ]
  },
  {
   "cell_type": "markdown",
   "metadata": {},
   "source": [
    "Note the code cell above throws an error. Something about not being able to ```multiply``` ```type 'str'```. When the ```input()``` function is run, the _output_ of the function is a **string**. It doesn't matter if the user types a number, Python will store that number as a **string** not as an integer or float. Luckily Python has two built-in fuctions to convert strings to integers and floats: ```int()``` and ```float()```. Let's change the script to convert the user's input from a string to a float, and then complete the multiplication step."
   ]
  },
  {
   "cell_type": "code",
   "execution_count": 1,
   "metadata": {},
   "outputs": [
    {
     "name": "stdout",
     "output_type": "stream",
     "text": [
      "base: 10\n",
      "height: 5\n",
      "Area = 25.0\n"
     ]
    }
   ],
   "source": [
    "b = input('base: ')\n",
    "h = input('height: ')\n",
    "A = (1/2)*float(b) * float(h)\n",
    "print(f'Area = {A}')"
   ]
  },
  {
   "cell_type": "markdown",
   "metadata": {},
   "source": [
    "## Boolean Opperations\n",
    "\n",
    "A _boolean_ is a data type that is either ```True``` or ```False```. Other data types include ints, floats and strings.  Although simple, Boolean data types are very useful inprogramming. To assign a variable a boolean type, use the key words ```True``` and ```False```"
   ]
  },
  {
   "cell_type": "code",
   "execution_count": 15,
   "metadata": {},
   "outputs": [
    {
     "name": "stdout",
     "output_type": "stream",
     "text": [
      "True\n"
     ]
    }
   ],
   "source": [
    "var = True\n",
    "print(var)"
   ]
  },
  {
   "cell_type": "markdown",
   "metadata": {},
   "source": [
    "Boolean variables can be compared with the comparison opperator ```==```. Note this is different from the assignment opperator ```=```. The comparison opperator compares two variables or expressions. The assignmnet opperator assigns a value to a variable. "
   ]
  },
  {
   "cell_type": "code",
   "execution_count": 16,
   "metadata": {},
   "outputs": [
    {
     "data": {
      "text/plain": [
       "False"
      ]
     },
     "execution_count": 16,
     "metadata": {},
     "output_type": "execute_result"
    }
   ],
   "source": [
    "var1 = True\n",
    "var2 = False\n",
    "var1 == var2"
   ]
  },
  {
   "cell_type": "markdown",
   "metadata": {},
   "source": [
    "Boolean opperators include and, or not\n",
    "\n",
    "| Logical Opperator | Symbol | Example | Output |\n",
    "| --- | --- | --- | --- |\n",
    "| comparison | ```==``` | True == False | False |\n",
    "| and | ```and``` | ```True and False``` | ```False``` |\n",
    "| or | ``` or ``` | ```True or False``` | ```True``` |\n",
    "| not equivalent | ``` != ``` or | ```True != False``` | ```True``` |\n",
    "| not | ```not``` | ```not False``` | ```True``` |\n",
    "\n",
    "Note that the symbols used for ```and```, ```or```, ```not``` in other programming languages ```&```, ```|```, ```~``` are _bitwise_ operators in Python. This means they are for operations on binary number (numbers represented as 1's and O's). The ```&```, ```|```, ```~``` symbols should not be used for logical comparisons or with boolean variables. "
   ]
  },
  {
   "cell_type": "code",
   "execution_count": 29,
   "metadata": {},
   "outputs": [
    {
     "data": {
      "text/plain": [
       "True"
      ]
     },
     "execution_count": 29,
     "metadata": {},
     "output_type": "execute_result"
    }
   ],
   "source": [
    "not False"
   ]
  },
  {
   "cell_type": "code",
   "execution_count": 18,
   "metadata": {},
   "outputs": [
    {
     "data": {
      "text/plain": [
       "False"
      ]
     },
     "execution_count": 18,
     "metadata": {},
     "output_type": "execute_result"
    }
   ],
   "source": [
    "True and False"
   ]
  },
  {
   "cell_type": "code",
   "execution_count": 19,
   "metadata": {},
   "outputs": [
    {
     "data": {
      "text/plain": [
       "True"
      ]
     },
     "execution_count": 19,
     "metadata": {},
     "output_type": "execute_result"
    }
   ],
   "source": [
    "True is True"
   ]
  },
  {
   "cell_type": "code",
   "execution_count": 2,
   "metadata": {},
   "outputs": [
    {
     "data": {
      "text/plain": [
       "True"
      ]
     },
     "execution_count": 2,
     "metadata": {},
     "output_type": "execute_result"
    }
   ],
   "source": [
    "True or False"
   ]
  },
  {
   "cell_type": "markdown",
   "metadata": {},
   "source": [
    "## For Loops"
   ]
  },
  {
   "cell_type": "markdown",
   "metadata": {},
   "source": [
    "_For Loops_ are a component of many programming languages. A _For Loop_ is a programming structure where a section of code is run a specified number of times.\n",
    "\n",
    "Say we want to print out the statement:\n",
    "\n",
    "```\n",
    "Engineers solve problems in teams\n",
    "Engineers solve problems in teams\n",
    "Engineers solve problems in teams\n",
    "```\n",
    "\n",
    "We want to see the statement printed three times. One way to do accomplish this is with three print statements in a row:"
   ]
  },
  {
   "cell_type": "code",
   "execution_count": 1,
   "metadata": {},
   "outputs": [
    {
     "name": "stdout",
     "output_type": "stream",
     "text": [
      "Engineers solve problems in teams\n",
      "Engineers solve problems in teams\n",
      "Engineers solve problems in teams\n"
     ]
    }
   ],
   "source": [
    "print('Engineers solve problems in teams')\n",
    "print('Engineers solve problems in teams')\n",
    "print('Engineers solve problems in teams')"
   ]
  },
  {
   "cell_type": "markdown",
   "metadata": {},
   "source": [
    "### For Loops with ```range()```\n",
    "\n",
    "\n",
    "Another way to accomplish the same thing is to use a _for loop_. The basic structure of a for loop is below:\n",
    "    \n",
    "```\n",
    "for <var> in range(<num>):\n",
    "    <code>\n",
    "    \n",
    "```\n",
    "\n",
    "Where ```<var>``` can be any variable name, ```range(<num>)``` is the number of times the for loop will run and ```<code>``` are the lines of code that execute each time the loop runs. Note the for loop starts with the keyword ```for``` and includes a colon ```:```. Both ```for``` and the colon ```:``` are required. Also note that ```<code>``` was indented. Each statement that will run in the for loop needs to be indented the same amount. The standard indentation is 4 spaces. Let's rewrite our example above using a for loop:"
   ]
  },
  {
   "cell_type": "code",
   "execution_count": 2,
   "metadata": {},
   "outputs": [
    {
     "name": "stdout",
     "output_type": "stream",
     "text": [
      "Engineers solve problems in teams\n",
      "Engineers solve problems in teams\n",
      "Engineers solve problems in teams\n"
     ]
    }
   ],
   "source": [
    "for i in range(3):\n",
    "    print('Engineers solve problems in teams')"
   ]
  },
  {
   "cell_type": "markdown",
   "metadata": {},
   "source": [
    "The Python ```range()``` function will return a iterable list of values starting from zero and ending at ```n-1```. For instance, when ```range(3)``` is called, the values ```0, 1, 2``` are returned. Note that ```3``` is not part of the iterable, even though the function input was ```range(3)```. This can be confirmed with a for loop:\n",
    "\n",
    "<div class=\"alert alert-danger\" role=\"alert\">\n",
    "  <strong>Remember!</strong> Python numbering starts at 0 and ends at n-1\n",
    "</div>"
   ]
  },
  {
   "cell_type": "code",
   "execution_count": 3,
   "metadata": {},
   "outputs": [
    {
     "name": "stdout",
     "output_type": "stream",
     "text": [
      "This is range number: 0\n",
      "This is range number: 1\n",
      "This is range number: 2\n"
     ]
    }
   ],
   "source": [
    "for i in range(3):\n",
    "    print(f'This is range number: {i}')"
   ]
  },
  {
   "cell_type": "markdown",
   "metadata": {},
   "source": [
    "### For loops with lists\n",
    "\n",
    "For loops can also be run using Python lists. If a list is used, the loop will run as many times as there are items in the list. The general structure is:\n",
    "\n",
    "```\n",
    "for <var> in <list>:\n",
    "    <code>\n",
    "```\n",
    " \n",
    "Where ```<var>``` is a variable name assigned to the item in the list, ```<list>``` is the list object and ```<code>``` is the programming code that runs for each item in the list. An example is below:\n",
    "       "
   ]
  },
  {
   "cell_type": "code",
   "execution_count": 4,
   "metadata": {},
   "outputs": [
    {
     "name": "stdout",
     "output_type": "stream",
     "text": [
      "electical\n",
      "mechanical\n",
      "civil\n"
     ]
    }
   ],
   "source": [
    "my_list = ['electical','mechanical','civil']\n",
    "for item in my_list:\n",
    "    print(item)"
   ]
  },
  {
   "cell_type": "markdown",
   "metadata": {},
   "source": [
    "Note how the loop ran three times, because there were three items in the list. Each time through the loop the variable ```item``` was set to one particular item in the list. \n",
    "\n",
    "The first time through the loop, ```item='electrical'``` \n",
    "\n",
    "The second time through the loop ```item='mechanical'``` \n",
    "\n",
    "The third time through the loop ```item='civil'```"
   ]
  },
  {
   "cell_type": "markdown",
   "metadata": {},
   "source": [
    "### Coding Challenge\n",
    "\n",
    "Let's use a loop to ask a user for input and once that input is acquired, we will print out the results. Consider the following problem:\n",
    "\n",
    "Write a code cell that asks a user for the three classes they are taking using a _for loop_. After the user has entered in three classes they are taking, print out the results back to the user. The use of the method ```list.append()``` can be vary useful here as this method ads an entry to a pre-existing list."
   ]
  },
  {
   "cell_type": "code",
   "execution_count": null,
   "metadata": {},
   "outputs": [],
   "source": []
  },
  {
   "cell_type": "markdown",
   "metadata": {},
   "source": [
    "## While Loops"
   ]
  },
  {
   "cell_type": "markdown",
   "metadata": {},
   "source": [
    "_While Loops_ are a component of many programming languages. A _While Loop_ is a programming structure where a section of code is repeated as long as a condition remains True. Then the condition becomes False, the loop stops running.\n",
    "\n",
    "The general form of a while loop is below:\n",
    "\n",
    "```\n",
    "while <true_statement>:\n",
    "    <code>\n",
    "```\n",
    "\n",
    "The keyword ```while``` must be included, as well as a ```<true_statement>```, a logical expression that can be evaluated as ```True``` or ```False```. The ```<code>``` after the while statement must be indented and each line of code that will run as part of the loop needs to be indented the same amount. Typically code within a while loop is indented 4 spaces. An example while loop is below:"
   ]
  },
  {
   "cell_type": "code",
   "execution_count": 5,
   "metadata": {},
   "outputs": [
    {
     "name": "stdout",
     "output_type": "stream",
     "text": [
      "0\n",
      "1\n",
      "2\n",
      "3\n"
     ]
    }
   ],
   "source": [
    "i = 0\n",
    "while i<4:\n",
    "    print(i)\n",
    "    i = i+1"
   ]
  },
  {
   "cell_type": "markdown",
   "metadata": {},
   "source": [
    "In the code above, the first line ```i=0``` created a variable ```i``` and assigned it the value ```0```. The next line declared what condition must be True to keep the loop running. The statement ```i<4``` will be ```True``` or ```False``` depending on the variable ```i```. Since ```i=0```, the statement ```i<4``` is ```True``` and the for loop starts to run. \n",
    "\n",
    "The code that runs inside the loop prints the value of ```i``` then increases ```i``` by ```1```. When ```i=4```, the statement ```i<4``` is ```False``` and the while loop ends."
   ]
  },
  {
   "cell_type": "markdown",
   "metadata": {},
   "source": [
    "### Using a ```while``` loop to validate user input\n",
    "\n",
    "While loops can be utilized to validate user input. Say we want to insist that a user inputs positive number. We can code this into a while loop. The while loop keeps on repeating until the user enters valid input. The code below will continue to ask a user for a positive number until one is entered."
   ]
  },
  {
   "cell_type": "code",
   "execution_count": 6,
   "metadata": {},
   "outputs": [
    {
     "name": "stdout",
     "output_type": "stream",
     "text": [
      "Enter a positive number: 4\n"
     ]
    }
   ],
   "source": [
    "num_input = -1\n",
    "while num_input < 0:\n",
    "    str_input = input('Enter a positive number: ')\n",
    "    num_input = float(str_input)"
   ]
  },
  {
   "cell_type": "markdown",
   "metadata": {},
   "source": [
    "In the section of code above, it is important to initialize the variable ```num_input``` with a value that causes the while statement ```num_input < 0``` to evaluate as ```True```. ```num_input = -1``` causes the statement ```num_input < 0``` to evaluate as ```True``` (any other negative number would have worked as well).\n",
    "\n",
    "If the while statement can't be evaluated as ```True``` or ```False```, Python will throw an error. It is therefore necessary to convert the user's input from a string to a float. The statement ```'5' < 0``` does not evaluate to True or False, because the string ```'5'``` can't be compared to the number ```0```. When ```num_input > 0``` the loop stops running because the statement ```num_input < 0``` is ```False```. "
   ]
  },
  {
   "cell_type": "markdown",
   "metadata": {},
   "source": [
    "### Coding Challenge\n",
    "\n",
    "Let's use a while loop to ask a user for input and once that input is acquired, we will run some calculations on what the user enters. Consider the following problem:\n",
    "\n",
    "Write a code cell that asks a user for positive numbers using a _while loop_. When the user enters in a negative number, the program stops asking for input.  After the user enters in a negative number, the following is printed to the user:\n",
    "\n",
    " * number of numbers entered\n",
    " * highest number entered\n",
    " * lowest number entered"
   ]
  },
  {
   "cell_type": "code",
   "execution_count": null,
   "metadata": {},
   "outputs": [],
   "source": []
  },
  {
   "cell_type": "markdown",
   "metadata": {},
   "source": [
    "### Coding Challenge\n",
    "\n",
    "Write a code cell that asks a user for an initial population and time. The program then outputs a plot of population vs time (time on x-axis, population on the y-axis) according to the model of population growth:\n",
    "    \n",
    "$$ P = P_0e^{rt} $$\n",
    "\n",
    "Where $P$ is the final population, $P_0$ is the initial population, $r$ is the growth rate, $t$ is the time and $e$ is the mathematical constant $e$. Assume the growth rate $r = 8 \\%$.  \n"
   ]
  },
  {
   "cell_type": "code",
   "execution_count": null,
   "metadata": {},
   "outputs": [],
   "source": []
  }
 ],
 "metadata": {
  "kernelspec": {
   "display_name": "Python 3",
   "language": "python",
   "name": "python3"
  },
  "language_info": {
   "codemirror_mode": {
    "name": "ipython",
    "version": 3
   },
   "file_extension": ".py",
   "mimetype": "text/x-python",
   "name": "python",
   "nbconvert_exporter": "python",
   "pygments_lexer": "ipython3",
   "version": "3.6.4"
  }
 },
 "nbformat": 4,
 "nbformat_minor": 2
}
