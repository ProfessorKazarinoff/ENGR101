{
 "cells": [
  {
   "cell_type": "markdown",
   "metadata": {},
   "source": [
    "# Lab 9 Notes: User input and loops in Python"
   ]
  },
  {
   "cell_type": "markdown",
   "metadata": {},
   "source": [
    "In this set of notes you will learn how to ask users for input and process the user input using loops."
   ]
  },
  {
   "cell_type": "markdown",
   "metadata": {},
   "source": [
    "## The ```input()``` function\n",
    "\n",
    "Python can be used to interact with users, ask for input, run tasks based on the input and then provide the user with output. One way to solicate input from users is to utilize the ```input()``` function. A typical ```input()``` statement is below:\n",
    "\n",
    "```\n",
    "var = input('What is your name?')\n",
    "```\n",
    "\n",
    "Where the prompt ```'What is your name?'``` is the text the user sees, and ```var``` is the variable that stores what the user types. Try running the code cell below:"
   ]
  },
  {
   "cell_type": "code",
   "execution_count": 1,
   "metadata": {},
   "outputs": [
    {
     "name": "stdout",
     "output_type": "stream",
     "text": [
      "What is your name?Peter\n",
      "It is nice to meet you:\n",
      "Peter\n"
     ]
    }
   ],
   "source": [
    "var = input('What is your name?')\n",
    "print('It is nice to meet you:')\n",
    "print(var)"
   ]
  },
  {
   "cell_type": "code",
   "execution_count": 2,
   "metadata": {},
   "outputs": [
    {
     "name": "stdout",
     "output_type": "stream",
     "text": [
      "How old are you?40\n",
      "40\n",
      "is a great age to learn\n"
     ]
    }
   ],
   "source": [
    "age = input('How old are you?')\n",
    "print(age)\n",
    "print('is a great age to learn')"
   ]
  },
  {
   "cell_type": "markdown",
   "metadata": {},
   "source": [
    "To print the user's input back to them on the same line, we'll use a Python construct called **f-strings**\n",
    "\n",
    "## f-strings\n",
    "\n",
    "Run the code in the cell below and notice the output"
   ]
  },
  {
   "cell_type": "code",
   "execution_count": 4,
   "metadata": {},
   "outputs": [
    {
     "name": "stdout",
     "output_type": "stream",
     "text": [
      "What month were you born in?Feb\n",
      "The month of Feb is a great time to have a birthday\n"
     ]
    }
   ],
   "source": [
    "mon = input('What month were you born in?')\n",
    "print(f'The month of {mon} is a great time to have a birthday')"
   ]
  },
  {
   "cell_type": "markdown",
   "metadata": {},
   "source": [
    "Note the ```f' '``` before the string. Placing an ```f``` before the quotes that denote a string defines the string as an _f-string_.\n",
    "\n",
    "An f-string is a Python concept that allows variables and expressions (like math operations) to be inserted inside a string.  The ```f``` does not get printed. It indicates to Python that variables are going to be inserted into the string. A set of curly braces ```{  }``` is need to surround any variables or expressions that will become part of the string.\n",
    "\n",
    "Using f-strings, we can ask the user for multiple pieces of input and print them all out in the same line."
   ]
  },
  {
   "cell_type": "code",
   "execution_count": 10,
   "metadata": {},
   "outputs": [
    {
     "name": "stdout",
     "output_type": "stream",
     "text": [
      "What month were you born in?\n",
      "What day were you born on?\n",
      "Your birthday is on  \n"
     ]
    }
   ],
   "source": [
    "month = input('What month were you born in?')\n",
    "day = input('What day were you born on?')\n",
    "print(f'Your birthday is on {month} {day}')"
   ]
  },
  {
   "cell_type": "markdown",
   "metadata": {},
   "source": [
    "We can also run methods and functions on the inside of the curly braces that are part of f-strings. The ```str.uppper()``` method will convert a string to all uppercase. We can use this method on the inside of an f-string."
   ]
  },
  {
   "cell_type": "code",
   "execution_count": 11,
   "metadata": {},
   "outputs": [
    {
     "name": "stdout",
     "output_type": "stream",
     "text": [
      "What is your name?\n",
      "nice to meet you uppercase \n"
     ]
    }
   ],
   "source": [
    "name = input('What is your name?')\n",
    "print(f'nice to meet you uppercase {name.upper()}')"
   ]
  },
  {
   "cell_type": "markdown",
   "metadata": {},
   "source": [
    "Let's do something more useful. How about we ask for the base and height of a triagble and print back the area of the triangle."
   ]
  },
  {
   "cell_type": "code",
   "execution_count": 12,
   "metadata": {},
   "outputs": [
    {
     "name": "stdout",
     "output_type": "stream",
     "text": [
      "base: \n",
      "height: \n"
     ]
    },
    {
     "ename": "TypeError",
     "evalue": "can't multiply sequence by non-int of type 'float'",
     "output_type": "error",
     "traceback": [
      "\u001b[0;31m---------------------------------------------------------------------------\u001b[0m",
      "\u001b[0;31mTypeError\u001b[0m                                 Traceback (most recent call last)",
      "\u001b[0;32m<ipython-input-12-f298d57a9da5>\u001b[0m in \u001b[0;36m<module>\u001b[0;34m()\u001b[0m\n\u001b[1;32m      1\u001b[0m \u001b[0mb\u001b[0m \u001b[0;34m=\u001b[0m \u001b[0minput\u001b[0m\u001b[0;34m(\u001b[0m\u001b[0;34m'base: '\u001b[0m\u001b[0;34m)\u001b[0m\u001b[0;34m\u001b[0m\u001b[0m\n\u001b[1;32m      2\u001b[0m \u001b[0mh\u001b[0m \u001b[0;34m=\u001b[0m \u001b[0minput\u001b[0m\u001b[0;34m(\u001b[0m\u001b[0;34m'height: '\u001b[0m\u001b[0;34m)\u001b[0m\u001b[0;34m\u001b[0m\u001b[0m\n\u001b[0;32m----> 3\u001b[0;31m \u001b[0mA\u001b[0m \u001b[0;34m=\u001b[0m \u001b[0;34m(\u001b[0m\u001b[0;36m1\u001b[0m\u001b[0;34m/\u001b[0m\u001b[0;36m2\u001b[0m\u001b[0;34m)\u001b[0m\u001b[0;34m*\u001b[0m\u001b[0mb\u001b[0m \u001b[0;34m*\u001b[0m \u001b[0mh\u001b[0m\u001b[0;34m\u001b[0m\u001b[0m\n\u001b[0m\u001b[1;32m      4\u001b[0m \u001b[0mprint\u001b[0m\u001b[0;34m(\u001b[0m\u001b[0;34mf'Area = {A}'\u001b[0m\u001b[0;34m)\u001b[0m\u001b[0;34m\u001b[0m\u001b[0m\n",
      "\u001b[0;31mTypeError\u001b[0m: can't multiply sequence by non-int of type 'float'"
     ]
    }
   ],
   "source": [
    "b = input('base: ')\n",
    "h = input('height: ')\n",
    "A = (1/2)*b * h\n",
    "print(f'Area = {A}')"
   ]
  },
  {
   "cell_type": "markdown",
   "metadata": {},
   "source": [
    "Note the code cell above throws an error. Something about not being able to ```multiply``` ```type 'str'```. When the ```input()``` function is run, the _output_ of the function is a **string**. It doesn't matter if the user types a number, Python will store that number as a **string** not as an integer or float. Luckily Python has two built-in fuctions to convert strings to integers and floats: ```int()``` and ```float()```. Let's change the script to convert the user's input from a string to a float, and then complete the multiplication step."
   ]
  },
  {
   "cell_type": "code",
   "execution_count": 1,
   "metadata": {},
   "outputs": [
    {
     "name": "stdout",
     "output_type": "stream",
     "text": [
      "base: 10\n",
      "height: 5\n",
      "Area = 25.0\n"
     ]
    }
   ],
   "source": [
    "b = input('base: ')\n",
    "h = input('height: ')\n",
    "A = (1/2)*float(b) * float(h)\n",
    "print(f'Area = {A}')"
   ]
  },
  {
   "cell_type": "markdown",
   "metadata": {},
   "source": [
    "## Boolean Opperations\n",
    "\n",
    "A _boolean_ is a data type that is either ```True``` or ```False```. Other data types include ints, floats and strings.  Although simple, Boolean data types are very useful inprogramming. To assign a variable a boolean type, use the key words ```True``` and ```False```"
   ]
  },
  {
   "cell_type": "code",
   "execution_count": 15,
   "metadata": {},
   "outputs": [
    {
     "name": "stdout",
     "output_type": "stream",
     "text": [
      "True\n"
     ]
    }
   ],
   "source": [
    "var = True\n",
    "print(var)"
   ]
  },
  {
   "cell_type": "markdown",
   "metadata": {},
   "source": [
    "Boolean variables can be compared with the comparison opperator ```==```. Note this is different from the assignment opperator ```=```. The comparison opperator compares two variables or expressions. The assignmnet opperator assigns a value to a variable. "
   ]
  },
  {
   "cell_type": "code",
   "execution_count": 16,
   "metadata": {},
   "outputs": [
    {
     "data": {
      "text/plain": [
       "False"
      ]
     },
     "execution_count": 16,
     "metadata": {},
     "output_type": "execute_result"
    }
   ],
   "source": [
    "var1 = True\n",
    "var2 = False\n",
    "var1 == var2"
   ]
  },
  {
   "cell_type": "markdown",
   "metadata": {},
   "source": [
    "Boolean opperators include and, or not\n",
    "\n",
    "| Logical Opperator | Symbol | Example | Output |\n",
    "| --- | --- | --- | --- |\n",
    "| comparison | ```==``` | True == False | False |\n",
    "| and | ```and``` | ```True and False``` | ```False``` |\n",
    "| or | ``` or ``` | ```True or False``` | ```True``` |\n",
    "| not equivalent | ``` != ``` or | ```True != False``` | ```True``` |\n",
    "| not | ```not``` | ```not False``` | ```True``` |\n",
    "\n",
    "Note that the symbols used for ```and```, ```or```, ```not``` in other programming languages ```&```, ```|```, ```~``` are _bitwise_ operators in Python. This means they are for operations on binary number (numbers represented as 1's and O's). The ```&```, ```|```, ```~``` symbols should not be used for logical comparisons or with boolean variables. "
   ]
  },
  {
   "cell_type": "code",
   "execution_count": 29,
   "metadata": {},
   "outputs": [
    {
     "data": {
      "text/plain": [
       "True"
      ]
     },
     "execution_count": 29,
     "metadata": {},
     "output_type": "execute_result"
    }
   ],
   "source": [
    "not False"
   ]
  },
  {
   "cell_type": "code",
   "execution_count": 18,
   "metadata": {},
   "outputs": [
    {
     "data": {
      "text/plain": [
       "False"
      ]
     },
     "execution_count": 18,
     "metadata": {},
     "output_type": "execute_result"
    }
   ],
   "source": [
    "True and False"
   ]
  },
  {
   "cell_type": "code",
   "execution_count": 19,
   "metadata": {},
   "outputs": [
    {
     "data": {
      "text/plain": [
       "True"
      ]
     },
     "execution_count": 19,
     "metadata": {},
     "output_type": "execute_result"
    }
   ],
   "source": [
    "True is True"
   ]
  },
  {
   "cell_type": "code",
   "execution_count": 2,
   "metadata": {},
   "outputs": [
    {
     "data": {
      "text/plain": [
       "True"
      ]
     },
     "execution_count": 2,
     "metadata": {},
     "output_type": "execute_result"
    }
   ],
   "source": [
    "True or False"
   ]
  },
  {
   "cell_type": "code",
   "execution_count": null,
   "metadata": {},
   "outputs": [],
   "source": []
  }
 ],
 "metadata": {
  "kernelspec": {
   "display_name": "Python 3",
   "language": "python",
   "name": "python3"
  },
  "language_info": {
   "codemirror_mode": {
    "name": "ipython",
    "version": 3
   },
   "file_extension": ".py",
   "mimetype": "text/x-python",
   "name": "python",
   "nbconvert_exporter": "python",
   "pygments_lexer": "ipython3",
   "version": "3.6.4"
  }
 },
 "nbformat": 4,
 "nbformat_minor": 2
}
