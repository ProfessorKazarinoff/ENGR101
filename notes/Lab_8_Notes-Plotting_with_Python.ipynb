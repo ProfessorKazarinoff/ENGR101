{
 "cells": [
  {
   "cell_type": "markdown",
   "metadata": {},
   "source": [
    "# Plotting with Python Notes"
   ]
  },
  {
   "cell_type": "markdown",
   "metadata": {},
   "source": [
    "In this set of notes, you will learn how to build plots using Python and the **matplotlib** package."
   ]
  },
  {
   "cell_type": "markdown",
   "metadata": {},
   "source": [
    "\n",
    "### What is Matplotlib?\n",
    "\n",
    "Matplotlib is a popular Python package used to plot data with Python. Matplotlib started as a project in the early 2000's partly to use Python as a way to visualize the electonic signals in the brain of epilepsy patients. Matplotlib's creator, John D. Hunter was a neurobilogist. He was looking for way to replicate MATLAB's plotting capability but with Python. In addition to starting matplotlib, Dr. Hunter was part of the founding group that created Numfocus. The Numfocus group oversees some major Python projects including matplotlib, numpy, pandas and jupyter.\n",
    "\n",
    "### Why use Matplotlib?\n",
    "\n",
    "Matplotlib is useful for creating static 2D plot, the kind included in scientific publications and presentations. Almost any plot created in Micrsoft Excel can be created with matplotlib.\n"
   ]
  },
  {
   "cell_type": "markdown",
   "metadata": {},
   "source": [
    "## Line Plots\n",
    "\n",
    "Line plots in matplotlib can be created using matplotlib's pyplot library. First import matplotlib's pyplot library using the line\n",
    "\n",
    "```\n",
    "import matplot.pyplot as plt\n",
    "```\n",
    "\n",
    "If using a jupyter notebook include the line \n",
    "\n",
    "```\n",
    "%matplotlib inline\n",
    "```\n",
    "\n",
    "below the import line. Next we will define some data. Data points can be simulated using the ```range function```. The range function can take three _arguments_. Input parameters fed into functions are called arguments."
   ]
  },
  {
   "cell_type": "code",
   "execution_count": null,
   "metadata": {
    "collapsed": true
   },
   "outputs": [],
   "source": []
  }
 ],
 "metadata": {
  "kernelspec": {
   "display_name": "Python 3",
   "language": "python",
   "name": "python3"
  },
  "language_info": {
   "codemirror_mode": {
    "name": "ipython",
    "version": 3
   },
   "file_extension": ".py",
   "mimetype": "text/x-python",
   "name": "python",
   "nbconvert_exporter": "python",
   "pygments_lexer": "ipython3",
   "version": "3.6.4"
  }
 },
 "nbformat": 4,
 "nbformat_minor": 2
}
