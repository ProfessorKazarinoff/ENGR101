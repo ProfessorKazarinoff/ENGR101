{
 "cells": [
  {
   "cell_type": "markdown",
   "metadata": {},
   "source": [
    "# Notes Lab 8 - Plotting with Python"
   ]
  },
  {
   "cell_type": "markdown",
   "metadata": {},
   "source": [
    "In this set of notes, you will learn how to build plots using Python and a package called **matplotlib**.\n",
    "\n",
    "![3 matplotlib plots](images/3_plots.png)"
   ]
  },
  {
   "cell_type": "markdown",
   "metadata": {},
   "source": [
    "\n",
    "### What is Matplotlib?\n",
    "\n",
    "Matplotlib is a popular Python package used to plot data with Python. Matplotlib started as a project in the early 2000's partly as a way to use Python to visualize the electonic signals in the brains of epilepsy patients. Matplotlib's creator, Dr. John D. Hunter, was a neurobilogist. Dr. Hunter was looking for way to replicate MATLAB's plotting capability, but with Python. \n",
    "\n",
    "In addition to starting matplotlib, Dr. Hunter was part of the founding group that created Numfocus. Numfocus oversees some major Python projects including matplotlib, numpy, pandas and jupyter.\n",
    "\n",
    "### Why use Matplotlib?\n",
    "\n",
    "Matplotlib is useful for creating static 2D plots, the kind of plots included in scientific publications and presentations. Almost any plot created in Microsoft Excel can be created with matplotlib. Matplotlib can also be used to make 3D plots and animations. Advanced topics like 3D plots and animations, will not be covered as part of this course.\n"
   ]
  },
  {
   "cell_type": "markdown",
   "metadata": {},
   "source": [
    "## Line Plots\n",
    "\n",
    "Line plots in matplotlib can be created using matplotlib's pyplot library. To create a plot with Python and matplotlib, first import matplotlib's pyplot library using the line\n",
    "\n",
    "```\n",
    "import matplot.pyplot as plt\n",
    "```\n",
    "\n",
    "It is common practice to use the alias ```plt``` for the ```matplotlib.pyplot``` library. Defining ```matplotlib.pyplot``` as ```plt``` allows us to use ```plt.<function name>``` instead of ```matplotlib.pyplot.<function name>``` in the rest of our code. See the differences below:\n",
    "\n",
    "importing ```matplotlib.pyplot``` with no alias\n",
    "\n",
    "```\n",
    "import matplotlib.pyplot\n",
    "\n",
    "matplotlib.pyplot.plot(x, y)\n",
    "```\n",
    "\n",
    "importing ```matplotlib.pyplot``` with the alias ```plt```\n",
    "\n",
    "```\n",
    "import matplotlib.pyplot as plt\n",
    "\n",
    "plt.plot(x, y)\n",
    "```\n",
    "\n",
    "Using the alias ```plt``` simplifies the look of the code and cuts down on the amount of typing we have to do. You can use any alias you like such as ```import matplotlib.pyplot as RainbowUnicorn```, but the ```plt``` alias is common convention.\n",
    "\n",
    "\n",
    "If building matplotlib plots in a jupyter notebook, include the line:\n",
    "\n",
    "```\n",
    "%matplotlib inline\n",
    "```\n",
    "\n",
    "below the matplotlib import line. "
   ]
  },
  {
   "cell_type": "code",
   "execution_count": null,
   "metadata": {},
   "outputs": [],
   "source": [
    "import matplotlib.pyplot as plt\n",
    "# if using a jupyter notebook, include:\n",
    "%matplotlib inline"
   ]
  },
  {
   "cell_type": "markdown",
   "metadata": {},
   "source": [
    "Once matplotlib is imported and we've instructed our jupyter notebook to display plots inline, we can create some data to plot. We will create this data as a Python _list_. A list is a built in data structure in Python that can store multiple items. Lists are defined in Python using square brackets ```[ ]```. The elements of a list are separated using commas ```[item1, item2, item 3]```.\n",
    "\n",
    "An example line of code to create a list of numbers in Python is:\n",
    "\n",
    "```\n",
    "a = [1, 3, 4, 8]\n",
    "```\n",
    "\n",
    "We can define a list of numbers in a code cell and plot them with matplotlib using matplotlib's ```plt.plot()``` function. We pass in our list of numbers as an _argument_ of the ```plt.plot()``` function. To show the plot, use the command ```plt.show()```. Make sure to include the double parenthesis ```()``` after the ```plt.show``` command."
   ]
  },
  {
   "cell_type": "code",
   "execution_count": null,
   "metadata": {},
   "outputs": [],
   "source": [
    "a = [1, 3, 4, 8]\n",
    "plt.plot(a)\n",
    "plt.show()"
   ]
  },
  {
   "cell_type": "markdown",
   "metadata": {},
   "source": [
    "This produces a plot of our four points on a set of axes. Note that our points are the y-values on the plot. The x-axis starts at zero and ends at three. Matplotlib automatically put set the x-axis as we only specified one list. Let's specify two lists, one list for the x-values on the plot called ```x``` and one list for the y-values on the plot called ```y```. \n",
    "\n",
    "With these two lists created, we can call ```plt.plot(x,y)``` and ```plt.show()``` and see the changes we made in a new plot."
   ]
  },
  {
   "cell_type": "code",
   "execution_count": null,
   "metadata": {},
   "outputs": [],
   "source": [
    "x = [0, 2, 4, 6]\n",
    "y = [1, 3, 4, 8]\n",
    "plt.plot(x,y)\n",
    "plt.show()"
   ]
  },
  {
   "cell_type": "markdown",
   "metadata": {},
   "source": [
    "Note how the x-values start at zero and count by 2's up to six, as we defined in our list ```x```."
   ]
  },
  {
   "cell_type": "markdown",
   "metadata": {},
   "source": [
    "## Customizing matplotlib plots\n",
    "\n",
    "### Axis Labels, Title and Legend\n",
    "\n",
    "Matplotlib plots can be customized in a lot of ways. We are going to build upon our previous example and add a couple features to our plot. These additional plot features are: \n",
    "\n",
    " * x-axis label\n",
    " * y-axis label\n",
    " * title\n",
    " * legend\n",
    " \n",
    " Each of these features is specified by a different matplotlib command.\n",
    "\n",
    "| Plot feature | matplotlib command | Example |\n",
    "| --- | --- | --- |\n",
    "| x-axis label | ```plt.xlabel()``` | ```plt.xlabel('time in seconds')``` |\n",
    "| x-axis limits | ```plt.xlim()``` | ```plt.xlim([0, 10])``` |\n",
    "| y-axis label | ```plt.ylabel()``` | ```plt.ylabel('distance in meters')``` |\n",
    "| y-axis limits | ```plt.ylim()``` | ```plt.ylim([-5, 5])``` |\n",
    "| title | ```plt.title()``` | ```plt.title('distance vs. time')``` |\n",
    "| legend | ```plt.legend()``` | ```plt.legend(['run 1'])``` |\n",
    "\n",
    "Note the words passed into the ```plt.xlabel()```, ```plt.ylabel()``` and ```plt.title()``` need to be enclosed in quotation marks ```'  '```. In Python, quotation marks denote _strings_. A string is a data type which contains letter, numbers, punctuation, symbols and spaces. The ```plt.legend()``` function expects a _list of strings_. \n",
    "\n",
    "A list of strings is similar to a list of numbers. The list is defined using square brackets ```[ ]```. A list of strings needs to have each string enclosed in quotes ```'  '``` and separated by a comma ```,``` as in ```['string1','string2',string3']```. If there is only one line on a plot, only one string needs to be included in the list strings passed to ```plt.legend()```. Even if there is only one string in a list, the square brackets used to define the list still need to be included (otherwise a simple string is defined, not a list of strings)."
   ]
  },
  {
   "cell_type": "code",
   "execution_count": null,
   "metadata": {},
   "outputs": [],
   "source": [
    "x = [0, 2, 4, 6]\n",
    "y = [1, 3, 4, 8]\n",
    "plt.plot(x,y)\n",
    "plt.xlabel('x values')\n",
    "plt.ylabel('y values')\n",
    "plt.title('plotted x and y values')\n",
    "plt.legend(['line 1'])\n",
    "plt.show()"
   ]
  },
  {
   "cell_type": "markdown",
   "metadata": {},
   "source": [
    "### Line Color, Line Width, Line Style, Line Opacity and Marker Options\n",
    "\n",
    "The color, width and style of lines and markers in a matplotlib plot can be customized. Line color, line width and line style are included as extra _key word arguments_ in the ```plt.plot()``` function call. \n",
    "\n",
    "A key word argument is a special type of argument passed into a function that must be stated explicitly by name. Regular arguments passed to functions are called _positional arguments_. Positional arguments need to be passed to the function in order, but their names do not need to be specified. \n",
    "\n",
    "In the code line below ```x``` and ```y``` are positional arguments and ```color``` is a key word argument. Note how ```x``` and ```y``` need to be included in order (first and second) and ```color='r'``` contains the keyword ```color``` and the equals sign ```=```.\n",
    "\n",
    "```\n",
    "plt.plot(x, y, color='r')\n",
    "```\n",
    "\n",
    "Examples of some of the keyword arguments which can be specified in a ```plt.plot()``` function call are shown in the table below:\n",
    "\n",
    "| Plot feature | plt.plot() keyword argument | Example |\n",
    "| --- | --- | --- |\n",
    "| width of line | ```linewidth``` | ```plt.plot(x, y, linewidth = 4)``` |\n",
    "| solid, dashed, dotted line | ```linestyle``` | ```plt.plot(x, y, linestyle = '-')``` |\n",
    "| line color | ```color``` | ```plt.plot(x, y, color = 'red')``` |\n",
    "| line opacity (transparency) | ```alpha``` | ```plt.plot(x, y, alpha = 0.5)``` |\n",
    "| marker shape | ```marker``` | ```plt.plot(x, y, marker = 'o')``` |\n",
    "\n",
    "\n",
    "The general format of a long ```plt.plot()``` function call using keyword arguments is: \n",
    "\n",
    "```\n",
    "plt.plot(<x-data>,<y-data>, linewideth=<float or int>, linestyle='<linestyle abbreviation>', color='<color abbreviation>', marker='<marker abbreviation>')\n",
    "```\n",
    "\n",
    "An example ```plt.plot()``` line including line width, style, color, opacity  and marker type is: \n",
    "\n",
    "```\n",
    "plt.plot(x, y, linewidth=2.0, linestyle='+', color='b', alpha=0.5, marker='o')\n",
    "```\n",
    "\n",
    "#### linewidth\n",
    "Below is a list of linewidths (many other widths are also available)\n",
    "\n",
    "|```linewidth=<float or int>``` | Line Width |\n",
    "| --- | --- |\n",
    "| 0.5 | 0.5 pixels wide |\n",
    "| 1   | 1 pixel wide |\n",
    "| 1.5 | 1.5 pixels wide |\n",
    "| 2   | 2 pixels wide |\n",
    "| 3 | 3 pixels wide |\n",
    "\n",
    "#### line style\n",
    "Below is a list of line styles\n",
    "\n",
    "|```linestyle='<style abbreviation>'``` | Line Style |\n",
    "| --- | --- |\n",
    "|```'-'``` or ```'solid'``` | \tsolid line (default) |\n",
    "|```'--'``` or ```'dashed'``` | \tdashed line |\n",
    "|```'-.'``` or ```'dashdot'``` | \tdash-dot line |\n",
    "|```':'``` or ```'dotted'``` | \tdotted line |\n",
    "|```'None'``` or ```' '``` or ```''``` |\tno line |\n",
    "\n",
    "#### color\n",
    "Below is a list of color abbreviations. Note ```'b'``` is used for blue and ```'k'``` is used for black.\n",
    "\n",
    "| ```color ='<color abbreviation>'``` | Color Name |\n",
    "| --- | --- |\n",
    "| ```'b'``` | Blue\n",
    "| ```'c'``` | Cyan |\n",
    "| ```'g'``` | Green |\n",
    "| ```'k'``` | Black |\n",
    "| ```'m'``` | magenta |\n",
    "| ```'r'``` | Red |\n",
    "| ```'w'``` | White |\n",
    "| ```'y'``` | Yellow |\n",
    "\n",
    "Colors can also be specified in hexadecimal format surrounded by quotation marks like ```'#FF69B4'``` or in RGBA (red,green,blue,opacity) format surrounded by parenthesis like ```(255,182,193,0.5)```.\n",
    "\n",
    "| ```color ='<color abbreviation>'``` | Color Format |\n",
    "| --- | --- |\n",
    "| ```'#FF69B4'``` | hexadecimal |\n",
    "| ```(255,182,193,0.5)``` | RGBA |\n",
    "\n",
    "#### alpha\n",
    "Below is a list of alpha (opacity) values (any alpha value between 0.0 and 1.0 is possible)\n",
    "\n",
    "| ```alpha = <float or int>``` | Opacity |\n",
    "| --- | --- |\n",
    "| ```0``` | transparent |\n",
    "| ```0.5``` | Half transparent |\n",
    "| ```1.0``` | Opaque |\n",
    "\n",
    "#### marker style\n",
    "Below is a list of maker styles\n",
    "\n",
    "|```marker='<marker abbreviation>'``` | Marker Style |\n",
    "| --- | --- |\n",
    "|```\".\"``` |\tpoint |\n",
    "|```\"o\"``` |\tcircle |\n",
    "|```\"v\"``` |\ttriangle_down |\n",
    "|```\"^\"``` |\ttriangle_up |\n",
    "|```\"s\"``` |\tsquare |\n",
    "|```\"*\"``` |\tstar |\n",
    "|```\"h\"``` |\thexagon |\n",
    "|```\"+\"``` |\tplus |\n",
    "|```\"P\"``` |\tfilled plus |\n",
    "|```\"x\"``` |\tx |\n",
    "|```\"X\"``` |\tfilled x|  \n",
    "|```\"D\"``` |\tdiamond |\n",
    "|```\"d\"```|\tthin diamond |\n",
    "\n",
    "In addition to ```marker='<marker style>'```, the color of the marker edge, the color of the marker face and the size of the marker can be specified with:\n",
    "\n",
    "```plt.plot( .... markeredgecolor='<color abbreviation>', markerfacecolor='<color abbreviation>', markersize=<float or int>....)```\n"
   ]
  },
  {
   "cell_type": "markdown",
   "metadata": {},
   "source": [
    "Let's customize our plot with:\n",
    "\n",
    " * line width of 0.5\n",
    " * dashed line\n",
    " * red line\n",
    " * circle markers\n",
    " * marker size of 10\n",
    " * marker face color mostly transparent (alpha = 0.1)\n",
    "\n",
    "We can do this with one ```plt.plot()``` function call. Note how each keyword argument contains an equals sign ```=``` and is separated from the next keyword argument with a comma:"
   ]
  },
  {
   "cell_type": "code",
   "execution_count": null,
   "metadata": {},
   "outputs": [],
   "source": [
    "x = [0, 2, 4, 6]\n",
    "y = [1, 3, 4, 8]\n",
    "\n",
    "plt.plot(x, y, linewidth=0.5, linestyle='--', color='r', marker='o', markersize=10, markerfacecolor=(1,0,0,0.1))\n",
    "plt.show()"
   ]
  },
  {
   "cell_type": "markdown",
   "metadata": {},
   "source": [
    "## Multi Line Plots\n",
    "\n",
    "Multi-line plots in matplotlib are created using matplotlib's pyplot library. In this section we will build upon the work in the previous section where a plot with one line was created."
   ]
  },
  {
   "cell_type": "markdown",
   "metadata": {},
   "source": [
    "To construct the data series for our multi-line plot, we'll use the **numpy** module. **Numpy** is a module for dealing with numerical data in Python, particularly with numerical data stored in matricies and arrays. Instead of defining a Python list of numbers to plot, we'll use **numpy** to create an _array_ of numbers. An array is a data structure that is multi-dimensional and only contains one data type. In Python, numpy arrays are different from lists because lists are one dimensional and can contain many different data types, whereas a numpy array can be multidimensional and contain only one data type.\n",
    "\n",
    "The array below is 2D array. It has both rows and columns. It is a 3 x 3 array (3 rows by 3 columns) and only contains floats (floating point numbers or decimals).\n",
    "\n",
    "| | | \n",
    "| --- | --- | ---|\n",
    "| 4.0 | 2.1 | 3.2 |\n",
    "| 0.0 | 0.5 | 1.77 |\n",
    "| 15.0 | -0.2 | 1.0 |\n",
    "\n",
    "The Python list below is a 1D data structure. It only has one row. The list contains three different data types: an integer, a float and a string.\n",
    "\n",
    "```\n",
    "mylist = [ 4, 0.003, 'red' ]\n",
    "```"
   ]
  },
  {
   "cell_type": "markdown",
   "metadata": {},
   "source": [
    "To use the numpy module, we must import it into our notebook. By convention ```numpy``` is imported as ```np```\n",
    "\n",
    "```\n",
    "import numpy as np\n",
    "```\n",
    "\n",
    "Once imported, we can use any of numpy's functions, such as the ```np.arange()``` function and the ```np.sin()``` function. A difference with the numpy ```np.sin()``` function compared to the ```math.sin()``` function from Python's Standard Library is that ```np.sin()``` can take the sine of every element in an array, while ```math.sin()``` can only find the sine of one number at a time. \n",
    "\n",
    "The ```np.arange()``` function will create an array according to the following specifications:\n",
    "\n",
    "```\n",
    "np.arange( start, stop, step )\n",
    "```\n",
    "\n",
    "Where ```start``` is the first number in the array, ```stop``` is the last number in the array (actually the last number in the array is ```stop - 1step```) and ```step``` is how far apart the numbers in the array are. \n",
    "\n",
    "To create an array starting at 0, ending at 12 and counting by 2's we would code:\n",
    "\n",
    "```\n",
    "myarray = np.arange(0, 14, 2)\n",
    "```\n",
    "\n",
    "Let's import ```numpy``` and build an array that goes from 0 to 4$pi$ in increments of 0.01. Then we will find the sine of each number in the array and plot the results with matplotlib."
   ]
  },
  {
   "cell_type": "code",
   "execution_count": null,
   "metadata": {},
   "outputs": [],
   "source": [
    "import numpy as np\n",
    "\n",
    "x = np.arange(0,4*np.pi,0.1)\n",
    "y = np.sin(x)\n",
    "plt.plot(x,y)\n",
    "plt.show()"
   ]
  },
  {
   "cell_type": "markdown",
   "metadata": {},
   "source": [
    "To build a plot with two lines, construct two arrays of y-points and pass them into the ```plt.plot()``` function in the form of:\n",
    "\n",
    "```\n",
    "plt.plot(x1,y1,x2,y2)\n",
    "```\n",
    "\n",
    "Where ```x1``` and ```y1``` denote the first line of the plot and ```x2```,```y2``` denotes the second line of the plot."
   ]
  },
  {
   "cell_type": "code",
   "execution_count": null,
   "metadata": {},
   "outputs": [],
   "source": [
    "import numpy as np\n",
    "\n",
    "x = np.arange(0,4*np.pi,0.1)\n",
    "y1 = np.sin(x)\n",
    "y2 = np.cos(x)\n",
    "plt.plot(x,y1,x,y2)\n",
    "plt.show()"
   ]
  },
  {
   "cell_type": "markdown",
   "metadata": {},
   "source": [
    "We can add a legend to our plot to show which line is which. In the list of strings we supply to the ```plt.legend()``` function, the first set of points ```x1```, ```y1``` will be labeled with the first string in the list. The second set of points ```x2```,```y2``` will be labeled with the second string in the list. We can also add x-axis and y-axis labels to the plot with ```plt.xlabel()``` and ```plt.ylabel()```. ```plt.title()``` adds the plot tile. "
   ]
  },
  {
   "cell_type": "code",
   "execution_count": null,
   "metadata": {},
   "outputs": [],
   "source": [
    "import numpy as np\n",
    "\n",
    "x = np.arange(0,4*np.pi,0.1)\n",
    "y1 = np.sin(x)\n",
    "y2 = np.cos(x)\n",
    "plt.plot(x,y1,x,y2)\n",
    "plt.legend(['sine','cosine'])\n",
    "plt.xlabel('Angle (radians)')\n",
    "plt.ylabel('Sine or Cosine')\n",
    "plt.title('Sine and Cosine of Angles 0 to 4$\\pi$ radians')\n",
    "plt.show()"
   ]
  },
  {
   "cell_type": "markdown",
   "metadata": {},
   "source": [
    "## Pie Charts\n",
    "\n",
    "Matplotlib can produce pie charts with the ```plt.pie()``` function. Decimal percentages or any list of floats and integers can be used to make a pie chart."
   ]
  },
  {
   "cell_type": "markdown",
   "metadata": {},
   "source": [
    "Consider the following problem:\n",
    "\n",
    "A manufactured product's cost can be broken down to engineering (including design), manufacturing (including raw materials), sales (including marketing) and profit.\n",
    "\n",
    "Consider that for an $9.00 microcontroller these four cost categories are:\n",
    "\n",
    " * Engineering - \\$1.35\n",
    " * Manufacturing - \\$3.60\n",
    " * Sales - \\$2.25 \n",
    " * Profit - \\$1.80\n",
    " \n",
    "We can build a pie chart that shows the cost breakdown for the \\$9.00 microcontroller with ```plt.pie()```. ```labels=``` is a keyword argument in the ```plt.pie()``` function call to show labels on our pie chart. The only required positional argument is a list of the sizes for the pie pieces.\n",
    "\n",
    "For pie charts in matplotlib, it is important to include the line ```plt.axis('equal')```. This line sets the x and y axis scales as equal which forces the pie chart into a circle shape. Without the ```plt.axis('equal')``` line, the pie chart will look like an oval. "
   ]
  },
  {
   "cell_type": "code",
   "execution_count": null,
   "metadata": {},
   "outputs": [],
   "source": [
    "import matplotlib.pyplot as plt\n",
    "\n",
    "# Pie chart, where the slices will be ordered and plotted counter-clockwise:\n",
    "labels = 'Engineering', 'Manufacturing', 'Sales', 'Profit'\n",
    "sizes = [1.35, 3.60, 2.25, 1.80]\n",
    "\n",
    "plt.pie(sizes, labels=labels)\n",
    "\n",
    "plt.axis('equal')\n",
    "plt.show()"
   ]
  },
  {
   "cell_type": "markdown",
   "metadata": {},
   "source": [
    "We can highlight the engineering cost by exploding out that piece of the pie chart. ```explode=``` is an example of a ```plt.pie()``` keyword argument. The table below shows a number of useful pie chart keyword arguments:\n",
    "\n",
    "| pie chart feature | plt.pie() keyword argument | Example |\n",
    "| --- | --- | --- |\n",
    "| labels of pieces | ```labels``` | ```plt.pie(sizes, labels = ['pigs','nats','elks'])``` |\n",
    "| show percentages | ```autopct``` | ```plt.pie(sizes, autopct = '%1.1f%%'])``` |\n",
    "| colors of pieces | ```colors``` | ```plt.pie(sizes, colors = ['red','green','blue'])``` |\n",
    "| explode out pieces | ```explode``` | ```plt.pie(sizes, explode = (0.1, 0, 0))``` |\n",
    "| starting angle of first piece | ```startangle``` | ```plt.pie(sizes, startangle=90)``` |\n",
    "| rotate labels with pieces | ```rotatelabels``` | ```plt.pie(sizes, rotatelabels = True)``` |\n",
    "| shadow behind pieces | ```shadow``` | ```plt.pie(sizes, shadow = True)``` |"
   ]
  },
  {
   "cell_type": "markdown",
   "metadata": {},
   "source": [
    "Let's build the following into our pie chart:\n",
    "\n",
    " * standard colors\n",
    " * Engineering piece is exploded outwards\n",
    " * percentages auto calculated and shown\n",
    " * shadow on each piece\n",
    " * Engineering piece start at zero degrees relative to the positive x-axis"
   ]
  },
  {
   "cell_type": "code",
   "execution_count": null,
   "metadata": {},
   "outputs": [],
   "source": [
    "import matplotlib.pyplot as plt\n",
    "\n",
    "# Pie chart, where the slices will be ordered and plotted counter-clockwise:\n",
    "labels = ['Engineering', 'Manufacturing', 'Sales', 'Profit']\n",
    "sizes = [1.35, 3.60, 2.25, 1.80]\n",
    "explode = (0.1, 0, 0, 0)  # \"explode\" the 1st slice, 'Engineering'\n",
    "\n",
    "\n",
    "plt.pie(sizes, labels=labels, \n",
    "        explode=explode, autopct='%1.1f%%',shadow=True, startangle=0)\n",
    "\n",
    "plt.axis('equal')\n",
    "plt.show()"
   ]
  },
  {
   "cell_type": "markdown",
   "metadata": {},
   "source": [
    "## Bar Charts"
   ]
  },
  {
   "cell_type": "markdown",
   "metadata": {},
   "source": [
    "To create a bar chart using matplotlib, we need some data. In this case the data is from a set of _coefficient of thermal expansion_ measurements. The coefficient of thermal expansion (CTE) is a material property that describes how much a material will change in length as a result of a change in temperature. Different materials have different CTE's. We can use CTE data to determine which material will expand the most if all three materials are heated up to the same temperature (assuming all three materials start at the same temperature). Below is a list of 3 metals and their corresponding CTE.\n",
    "\n",
    " * Aluminum CTE ~ 24 &times; 10<sup>-6</sup> &deg;C<sup>-1</sup>\n",
    " * Copper CTE ~ 17 &times; 10<sup>-6</sup> &deg;C<sup>-1</sup>\n",
    " * Steel CTE ~ 12 &times; 10<sup>-6</sup> &deg;C<sup>-1</sup>\n",
    "\n",
    "\n",
    "To build a bar chart, first we create a list of the names of the materials, and a list of the coefficients of thermal expansion. We also need a list of bar positions. This seems sort of strange, but the ```plt.bar()``` method needs to know where along the x-axis to put the bars. The ```ax.bar()``` method requires two positional arguments:\n",
    "\n",
    "```\n",
    "plt.bar([list of bar positions],[list of bar heights])\n",
    "```\n",
    "\n",
    "If we just pass in the list of bar heights, we'll be thrown an error."
   ]
  },
  {
   "cell_type": "code",
   "execution_count": null,
   "metadata": {},
   "outputs": [],
   "source": [
    "# define the bar labels, heights, and postions\n",
    "materials = ['Aluminum', 'Copper', 'Steel']\n",
    "heights = [24e-6, 17e-6, 12e-6]\n",
    "x_pos = [1, 2, 3]"
   ]
  },
  {
   "cell_type": "markdown",
   "metadata": {},
   "source": [
    "Next we build the plot and pass in the list of bar position ```x_pos``` and list of bar heights ```heights``` as positional arguments (they have to be in the right order) to the ```plt.bar()``` function."
   ]
  },
  {
   "cell_type": "code",
   "execution_count": null,
   "metadata": {},
   "outputs": [],
   "source": [
    "# Build the plot\n",
    "plt.bar(x_pos,heights)\n",
    "plt.show()"
   ]
  },
  {
   "cell_type": "markdown",
   "metadata": {},
   "source": [
    "Let's add some details to our bar plot by specifying the bar labels and where to put those labels. We'll also decrease the opacity of the bars to make the plot look slightly different.  Besides changing opacity, there are number of other keyword arguments we can add to the ```plt.bar()``` function call to modify the plot. A table of a few of the ```plt.bar()``` keyword arguments is below:\n",
    "\n",
    "| bar plot feature | plt.bar() keyword argument | Example |\n",
    "| --- | --- | --- |\n",
    "| color of the bars | ```color``` | ```plt.bar(x_pos, heights, color = 'g')``` |\n",
    "| color of bar outlines | ```edgecolor``` | ```plt.edgecolor(x_pos, heights, edgecolor = 'k')``` |\n",
    "| thickness of bar outlines | ```linewidth``` | ```plt.bar(x_pos, heights, linewidth = 3)``` |\n",
    "| y error bar heights  | ```yerr``` | ```plt.bar(x_pos, heights, yerr = [0.1, 0.3, 0.2])``` |\n",
    "| width of error bar caps | ```capsize``` | ```plt.bar(x_pos, heights, capsize = 5)``` |\n",
    "\n",
    "\n",
    "Assuming ```x_pos``` is a list of x-positions for the bars, and ```heights``` is a list of bar heights, an example ```plt.bar()``` function call might be:\n",
    "\n",
    "```\n",
    "plt.bar(x_pos, heights, color='b', edgecolor='k', linewidth=4, yerr=[0.1, 0.3, 0.1], capsize=5)\n",
    "```\n",
    "\n",
    "Labels can be added to the bar plot with the same ```plt``` functions used to customize line plots. These include\n"
   ]
  },
  {
   "cell_type": "code",
   "execution_count": null,
   "metadata": {},
   "outputs": [],
   "source": [
    "# bar plot\n",
    "import numpy as np\n",
    "import matplotlib.pyplot as plt\n",
    "%matplotlib inline\n",
    "\n",
    "materials = ['Aluminum', 'Copper', 'Steel']\n",
    "CTEs = [24e-6, 17e-6, 12e-6]\n",
    "bar_pos = [1,2,3]\n",
    "\n",
    "plt.bar(bar_pos, CTEs, alpha=0.5)\n",
    "plt.ylabel('CTE (1/*C)')\n",
    "plt.xlabel('Metals')\n",
    "plt.xticks([1,2,3], materials)\n",
    "plt.grid(axis='y')\n",
    "plt.title('Coefficients of Thermal Expanion of three metals')\n",
    "\n",
    "plt.show()"
   ]
  },
  {
   "cell_type": "markdown",
   "metadata": {},
   "source": [
    "## Saving plots\n",
    "\n",
    "Plots can be saved with the ```plt.savefig()``` fuction. The ```savefig()``` fuction should be called right below the ```plt.show()``` line. You want all the features of the plot specified and created before the figure is saved. If the figure is saved after the plt.show() command, the figure will not be saved until the plot window is closed which can be problematic if building plots in a jupyter notebook with ```%matplotlib inline``` enabled. A standard save fig command is:\n",
    "\n",
    "```\n",
    "plt.savefig('plot.png', dpi=300, bbox_inches='tight')\n",
    "```\n",
    "\n",
    "Where ```'plot.png'``` is the name of the saved image. Matplotlib will infern the image file format (.png, .jpg etc) based on the extension included in the file name. \n",
    "\n",
    "The keyword argument ```dpi=``` specifies how many dots per inch the saved (saved image resolution). For an image on a webpage ```dpi=72``` is fine. For an image designed to go in a written report or .pdf ```dpi=300``` is probobly better. \n",
    "\n",
    "The keyword argument ```bbox_inches='tight'``` may or may not be needed. If the axis labels of the plot are cut off in the image, setting ```bbox_inches='tight'``` can help solve the problem.\n",
    "\n",
    "\n",
    "\n",
    "Let's save the plot bar plot above with the file name: plot.png"
   ]
  },
  {
   "cell_type": "code",
   "execution_count": null,
   "metadata": {},
   "outputs": [],
   "source": [
    "# bar plot\n",
    "import numpy as np\n",
    "import matplotlib.pyplot as plt\n",
    "%matplotlib inline\n",
    "\n",
    "materials = ['Aluminum', 'Copper', 'Steel']\n",
    "CTEs = [24e-6, 17e-6, 12e-6]\n",
    "bar_pos = [1,2,3]\n",
    "\n",
    "plt.bar(bar_pos, CTEs, alpha=0.5)\n",
    "plt.ylabel('CTE (1/*C)')\n",
    "plt.xlabel('Metals')\n",
    "plt.xticks([1,2,3], materials)\n",
    "plt.grid(axis='y')\n",
    "plt.title('Coefficients of Thermal Expanion of three metals')\n",
    "\n",
    "#save the figure\n",
    "plt.savefig('plot.png', dpi=300, bbox_inches='tight')\n",
    "\n",
    "plt.show()"
   ]
  },
  {
   "cell_type": "code",
   "execution_count": null,
   "metadata": {},
   "outputs": [],
   "source": []
  }
 ],
 "metadata": {
  "kernelspec": {
   "display_name": "Python 3",
   "language": "python",
   "name": "python3"
  },
  "language_info": {
   "codemirror_mode": {
    "name": "ipython",
    "version": 3
   },
   "file_extension": ".py",
   "mimetype": "text/x-python",
   "name": "python",
   "nbconvert_exporter": "python",
   "pygments_lexer": "ipython3",
   "version": "3.6.4"
  }
 },
 "nbformat": 4,
 "nbformat_minor": 2
}
