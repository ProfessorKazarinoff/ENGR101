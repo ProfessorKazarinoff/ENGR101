{
 "cells": [
  {
   "cell_type": "markdown",
   "metadata": {},
   "source": [
    "# Introduction to Python"
   ]
  },
  {
   "cell_type": "markdown",
   "metadata": {},
   "source": [
    "You might be wondering \"What is Python?\""
   ]
  },
  {
   "cell_type": "markdown",
   "metadata": {},
   "source": [
    "### Python is a computer programming language\n",
    "\n",
    "Python is a computer programming language. Other computer programming languages include C++, Java, Javascript and MATLAB. \n",
    "\n",
    "When you download and install Python, you install the _Python Interpreter_. The Python interpreter is a program that runs on your computer. Other programs running on your computer include Microsoft Word, Microsoft Excel and web browsers like Google Chrome or Firefox. Each of these prgrams use a different file type. The file type the Python Interpreter runs are files that contain Python code. You can think of the Python Interpreter like a cook that only does exactly what is listed in a recipie. Using this analogy, the recipie is kind of like Python code. Python code contains instructions that the Python Interpreter runs. "
   ]
  },
  {
   "cell_type": "markdown",
   "metadata": {},
   "source": [
    "## Brief History of Python\n",
    "Python was created by Guido van Rossum, a Dutch computer programmer, and was first released in 1991. The name _Python_ is attributed to _Monte Python_ the British commedy troupe that became popular in the 1970's and 80's for their TV show _Monte Python's Flying Circus_ and movies like _Monty Python and the Holy Grail_. Python 1.0 was released in 1994. Python 2.0 was released in 2000 that included additional features compared to the 1.0 version. In 2001 the Python Software foundation was formed to support legal, licencing, and fiscal arrangements that support the Python language. Python version 3.0 was released in 2008. The 3.x versions between 2008 are refered to as Python3 or modern Python. Versions in the 2.0 to 2.7 release of Python are considered legacy Python."
   ]
  },
  {
   "cell_type": "markdown",
   "metadata": {},
   "source": [
    "## Why was Python created?\n",
    "Guido created Python based on his experience working with another earlier computer programming language called ABC. Guido had a couple of \"gripes\" with the ABC programming language including it's lack of extensability. He wrote Python partly in response to this problem. Unlike ABC, Python is indeed very extensible. It can be extended with additional packages downloaded from the [PyPI.org](https://pypi.org) and runs on servers, desktop computers, laptops and tiny microcontrollers."
   ]
  },
  {
   "cell_type": "markdown",
   "metadata": {},
   "source": [
    "## Who is reponsible for Python?\n",
    "\n",
    "Many major software products were created by companies with teams of paid employees to make sure the software works. Microsoft Word and Excel are managed by Microsoft, Google Chrome is managed by Google. A few programming languages are supported by big companies too, such as Microsoft's suppport for C# (pronounced cee-sharp) and Sun/Oracle's support for Java. \n",
    "\n",
    "Python is an _open source_ programming language and managed largely by a volunteer community of core developers. "
   ]
  },
  {
   "cell_type": "markdown",
   "metadata": {},
   "source": [
    "## How much does Python cost?\n",
    "\n",
    "Python is free to download, use and distribute. Any software products constructed with Python do not need to pay royalties to the Python Software Foundation or the Python Core Developers. This is similar to how much the Linux opperating system costs: it is free to download and use."
   ]
  },
  {
   "cell_type": "markdown",
   "metadata": {},
   "source": [
    "## What is Python used for?\n",
    "\n",
    "The Python programming language is used in several industry, research and education areas:\n",
    "\n",
    " * Industry: YouTube, FaceBook, Instagram, Netflix, Dropbox, Bank of America\n",
    " * Research: CERN, Sloan Sky Survey, Allen Brain Science Institute\n",
    " * Education: Stanford, MIT, UC Berkeley, Michigan State\n",
    " \n",
    "The Python programming lanuage is used in serveral problem solving areas:\n",
    "\n",
    " * Web Application Design: A Python webframework called Django is used to run Instragram a popular picture sharing app.\n",
    " * Data Science: Python tools are used by engineers at Netfix to analyze users' movie watching trends\n",
    " * Machine Learning and AI: A Python tool called Donkey is used to program automated cars.\n",
    " * Software integration: Python is used as a \"glue\" language by Industrial Light and Magic to help make the Star Wars movies.\n",
    " \n"
   ]
  },
  {
   "cell_type": "code",
   "execution_count": null,
   "metadata": {
    "collapsed": true
   },
   "outputs": [],
   "source": []
  }
 ],
 "metadata": {
  "kernelspec": {
   "display_name": "Python 3",
   "language": "python",
   "name": "python3"
  },
  "language_info": {
   "codemirror_mode": {
    "name": "ipython",
    "version": 3
   },
   "file_extension": ".py",
   "mimetype": "text/x-python",
   "name": "python",
   "nbconvert_exporter": "python",
   "pygments_lexer": "ipython3",
   "version": "3.6.5"
  }
 },
 "nbformat": 4,
 "nbformat_minor": 2
}
