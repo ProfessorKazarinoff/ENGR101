{
 "cells": [
  {
   "cell_type": "markdown",
   "metadata": {},
   "source": [
    "# Lab 8 - Plotting with matplotlib"
   ]
  },
  {
   "cell_type": "markdown",
   "metadata": {},
   "source": [
    "Build a plot that shows the sin of x. Take values of x between zero and 4 $\\pi$ in increments of 0.01"
   ]
  },
  {
   "cell_type": "code",
   "execution_count": null,
   "metadata": {
    "collapsed": true
   },
   "outputs": [],
   "source": []
  },
  {
   "cell_type": "markdown",
   "metadata": {},
   "source": [
    "Build a plot that shows the sin and cos of x on the same set of axes. Take values of x between zero and 4 pi in increments of 0.01"
   ]
  },
  {
   "cell_type": "code",
   "execution_count": null,
   "metadata": {
    "collapsed": true
   },
   "outputs": [],
   "source": []
  },
  {
   "cell_type": "markdown",
   "metadata": {},
   "source": [
    "Build a pie chart that shows the planned engineering majors of students in the class."
   ]
  },
  {
   "cell_type": "code",
   "execution_count": null,
   "metadata": {
    "collapsed": true
   },
   "outputs": [],
   "source": []
  },
  {
   "cell_type": "markdown",
   "metadata": {},
   "source": [
    "Build a bar chart that shows the density of three different types of wood. Locate the densities from a reliable online resource. Cite your resource in a **Markdown Cell**, build your plot in a seperate **Code Cell**"
   ]
  },
  {
   "cell_type": "markdown",
   "metadata": {
    "collapsed": true
   },
   "source": []
  },
  {
   "cell_type": "code",
   "execution_count": null,
   "metadata": {
    "collapsed": true
   },
   "outputs": [],
   "source": []
  },
  {
   "cell_type": "markdown",
   "metadata": {},
   "source": [
    "#### *Bonus: Bar plot with error bars\n",
    "\n",
    "Follow along with the blog post: [Bar charts with error bars using Python, jupyter notebooks and matplotlib](http://pythonforundergradengineers.com/bar-plot-with-error-bars-jupyter-matplotlib.html) and build a bar chart with error bars that shows the strength of two different types of 3D-printed plastic as shown in the blog post. \n",
    "\n",
    "Building the plot will entail using the **statistics** module as well as **matplotlib**. You will not have to _install_ any of theses packages to build the plot here in this online Jupyer Notebook. You will need to _import_ all the two modules at the start of your code cell in order to use each module's functions.  "
   ]
  },
  {
   "cell_type": "code",
   "execution_count": null,
   "metadata": {
    "collapsed": true
   },
   "outputs": [],
   "source": []
  },
  {
   "cell_type": "markdown",
   "metadata": {},
   "source": [
    "## For Lab Check Off:\n",
    "\n",
    " * Save a copy of your notebook using File --> Make a Copy ...\n",
    " * Rename the copied notebook using your last name as the first part of the file name and Lab 8 as the second part of the file name. Example filename: \n",
    " \n",
    " > kazarinoff-Lab8\n",
    " \n",
    " * Run all of the cells in your lastname-Lab8 notebook using Kernel --> Restart & Run All. Check all plots to make sure they render.\n",
    " * Download your lastname-Lab8 notebook to the downloads folder using File --> Download as --> Notebook (.ipynb)\n",
    " * Upload your lastname-Lab8.ipynb file (the one you just downloaded) to Google Drive in the ENGR101 - Lab 8 Student Uploads folder\n",
    " * Before closing your notebook or google drive, check google drive to ensure the notebook was successfully uploaded."
   ]
  },
  {
   "cell_type": "code",
   "execution_count": null,
   "metadata": {
    "collapsed": true
   },
   "outputs": [],
   "source": []
  }
 ],
 "metadata": {
  "kernelspec": {
   "display_name": "Python 3",
   "language": "python",
   "name": "python3"
  },
  "language_info": {
   "codemirror_mode": {
    "name": "ipython",
    "version": 3
   },
   "file_extension": ".py",
   "mimetype": "text/x-python",
   "name": "python",
   "nbconvert_exporter": "python",
   "pygments_lexer": "ipython3",
   "version": "3.6.4"
  }
 },
 "nbformat": 4,
 "nbformat_minor": 2
}
