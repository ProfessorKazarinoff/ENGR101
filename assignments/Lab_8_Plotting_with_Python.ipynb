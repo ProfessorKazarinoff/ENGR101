{
 "cells": [
  {
   "cell_type": "markdown",
   "metadata": {},
   "source": [
    "# Lab 8 - Plotting with Matplotlib"
   ]
  },
  {
   "cell_type": "markdown",
   "metadata": {},
   "source": [
    "Build a plot that shows the sine of x. Take values of x between zero and 4$\\pi$ in increments of 0.01. Include a title and axis labels on your plot."
   ]
  },
  {
   "cell_type": "code",
   "execution_count": null,
   "metadata": {},
   "outputs": [],
   "source": []
  },
  {
   "cell_type": "markdown",
   "metadata": {},
   "source": [
    "Build a plot that shows the sine and cosine of x on the same set of axes. Take values of x between zero and 4$\\pi$ in increments of 0.01. Include a tile, axis labels and a legend on your plot.  Make the line for sine thin red and dashed. Make the  line for cosine thick blue and solid."
   ]
  },
  {
   "cell_type": "code",
   "execution_count": null,
   "metadata": {},
   "outputs": [],
   "source": []
  },
  {
   "cell_type": "markdown",
   "metadata": {},
   "source": [
    "Build a pie chart that shows the engineering majors of students in colleges across the US. The breakdown of majors according to ASEE, the American Society of Engineering Eduction, is approximately:\n",
    "\n",
    " * Mechanical Engineering (ME): 30,000 students\n",
    " * Electrical Engineering (EE): 16,000 students\n",
    " * Civil Engineering (CivE): 13,000 students\n",
    " * Chemical Engineering (ChemE): 13,000 students\n",
    " * Computer Engineering (Comp Sci): 7,500 students\n",
    " * Biomedical Engineering (BioE): 6,600 students\n",
    " * Industrial Engineering (IE): 5,000 students\n",
    " * Aerospace Engineering (Aero): 4,00 students\n",
    " \n",
    "Include a plot title and labels on your pie chart that show percentages as well as the abbreviation for the type of engineering (ME, EE, CivE etc)."
   ]
  },
  {
   "cell_type": "code",
   "execution_count": null,
   "metadata": {
    "collapsed": true
   },
   "outputs": [],
   "source": []
  },
  {
   "cell_type": "markdown",
   "metadata": {},
   "source": [
    "Build a bar chart that shows the density of three different types of wood. Locate the densities from a reliable online resource. Cite your reliable online resource in a **Markdown Cell** (be sure to change the cell type in the upper menu), build your plot in a separate **Code Cell**. Include a title and axis labels with your plot."
   ]
  },
  {
   "cell_type": "code",
   "execution_count": null,
   "metadata": {},
   "outputs": [],
   "source": []
  },
  {
   "cell_type": "code",
   "execution_count": null,
   "metadata": {},
   "outputs": [],
   "source": []
  },
  {
   "cell_type": "markdown",
   "metadata": {},
   "source": [
    "#### *Bonus: Bar plot with error bars\n",
    "\n",
    "Follow along with the blog post: [Bar charts with error bars using Python, Jupyter notebooks and Matplotlib](http://pythonforundergradengineers.com/bar-plot-with-error-bars-jupyter-matplotlib.html) and build a bar chart with error bars that shows the strength of two different types of 3D-printed plastic as shown in the blog post. \n",
    "\n",
    "Building the plot will entail using the **statistics** module as well as **Matplotlib**. You will not have to _install_ any of theses packages to build the plot here in this online Jupyter notebook. You will need to _import_ the two modules at the start of your code cell in order to use each module's functions.  "
   ]
  },
  {
   "cell_type": "code",
   "execution_count": null,
   "metadata": {
    "collapsed": true
   },
   "outputs": [],
   "source": []
  },
  {
   "cell_type": "markdown",
   "metadata": {},
   "source": [
    "## For Lab Check Off:\n",
    "\n",
    " * Save a copy of your notebook using File --> Make a Copy ...\n",
    " * Rename the copied notebook using your last name as the first part of the file name and Lab 8 as the second part of the file name. Example filename: \n",
    " \n",
    " > kazarinoff-Lab8\n",
    " \n",
    " * Run all of the cells in your lastname-Lab8 notebook using Kernel --> Restart & Run All. Check all plots to make sure they render. Make sure all code cells run without an error.\n",
    " * Download your lastname-Lab8 notebook to the downloads folder using File --> Download as --> Notebook (.ipynb)\n",
    " * Upload your lastname-Lab8.ipynb file (the one you just downloaded) as directed by your instructor\n",
    " * Before closing your notebook, check to ensure the notebook was successfully uploaded."
   ]
  },
  {
   "cell_type": "code",
   "execution_count": null,
   "metadata": {
    "collapsed": true
   },
   "outputs": [],
   "source": []
  }
 ],
 "metadata": {
  "kernelspec": {
   "display_name": "Python 3",
   "language": "python",
   "name": "python3"
  },
  "language_info": {
   "codemirror_mode": {
    "name": "ipython",
    "version": 3
   },
   "file_extension": ".py",
   "mimetype": "text/x-python",
   "name": "python",
   "nbconvert_exporter": "python",
   "pygments_lexer": "ipython3",
   "version": "3.6.7"
  }
 },
 "nbformat": 4,
 "nbformat_minor": 2
}
