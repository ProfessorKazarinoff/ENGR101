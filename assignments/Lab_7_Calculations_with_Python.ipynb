{
 "cells": [
  {
   "cell_type": "markdown",
   "metadata": {},
   "source": [
    "# Lab 7 - Calculations with Python"
   ]
  },
  {
   "cell_type": "markdown",
   "metadata": {},
   "source": [
    "Complete the follwoing calculations. Put one line of calculations per code cell. \n",
    "\n",
    "Run each cell by clicking the <button class=\"btn btn-default\"><i class=\"fa-step-forward fa\"></i><span class=\"toolbar-btn-label\">Run</span></button> button on the top menu or by pressing [Shift]+[Enter]:"
   ]
  },
  {
   "cell_type": "markdown",
   "metadata": {},
   "source": [
    "$$ 4 \\times 4 $$ "
   ]
  },
  {
   "cell_type": "code",
   "execution_count": null,
   "metadata": {
    "collapsed": true
   },
   "outputs": [],
   "source": []
  },
  {
   "cell_type": "markdown",
   "metadata": {},
   "source": [
    "$$ 12 \\div 3 $$"
   ]
  },
  {
   "cell_type": "code",
   "execution_count": null,
   "metadata": {
    "collapsed": true
   },
   "outputs": [],
   "source": []
  },
  {
   "cell_type": "markdown",
   "metadata": {},
   "source": [
    "$$ 2^3 $$"
   ]
  },
  {
   "cell_type": "code",
   "execution_count": null,
   "metadata": {
    "collapsed": true
   },
   "outputs": [],
   "source": []
  },
  {
   "cell_type": "markdown",
   "metadata": {},
   "source": [
    "$$ 1 + \\frac{3}{4} $$"
   ]
  },
  {
   "cell_type": "code",
   "execution_count": null,
   "metadata": {
    "collapsed": true
   },
   "outputs": [],
   "source": []
  },
  {
   "cell_type": "markdown",
   "metadata": {},
   "source": [
    "$$ 5 + 6 + \\frac{4}{2} $$"
   ]
  },
  {
   "cell_type": "code",
   "execution_count": null,
   "metadata": {
    "collapsed": true
   },
   "outputs": [],
   "source": []
  },
  {
   "cell_type": "markdown",
   "metadata": {},
   "source": [
    "$$ 5^2 \\times 3 $$"
   ]
  },
  {
   "cell_type": "code",
   "execution_count": null,
   "metadata": {
    "collapsed": true
   },
   "outputs": [],
   "source": []
  },
  {
   "cell_type": "markdown",
   "metadata": {},
   "source": [
    "$$ \\frac{(3+5-2)^2}{3} $$"
   ]
  },
  {
   "cell_type": "code",
   "execution_count": null,
   "metadata": {
    "collapsed": true
   },
   "outputs": [],
   "source": []
  },
  {
   "cell_type": "markdown",
   "metadata": {},
   "source": [
    "$$ \\frac{1 + 3 + 9}{8 + 14 + 2} $$"
   ]
  },
  {
   "cell_type": "code",
   "execution_count": null,
   "metadata": {
    "collapsed": true
   },
   "outputs": [],
   "source": []
  },
  {
   "cell_type": "markdown",
   "metadata": {},
   "source": [
    "$$ -\\sqrt{9^2 + 5^2 + 3^2} $$"
   ]
  },
  {
   "cell_type": "code",
   "execution_count": null,
   "metadata": {
    "collapsed": true
   },
   "outputs": [],
   "source": []
  },
  {
   "cell_type": "markdown",
   "metadata": {},
   "source": [
    "$$ 1 + 5 + \\frac{3}{6^2} + 2^{2-4} \\times \\frac{1}{5.5} $$"
   ]
  },
  {
   "cell_type": "code",
   "execution_count": null,
   "metadata": {
    "collapsed": true
   },
   "outputs": [],
   "source": []
  },
  {
   "cell_type": "markdown",
   "metadata": {},
   "source": [
    "## Defining Variables\n",
    "\n",
    "For the next section, define variables as stated in the problem and complete the calculation using the varable names you defined. A couple lines of code are required in each cell."
   ]
  },
  {
   "cell_type": "markdown",
   "metadata": {},
   "source": [
    "Two sides of a right triangle have lengths 14 and 15. Find the length of the third side of the right triangle. Assign the length of the third side of the triangle to the variable ```c```.\n",
    "\n",
    "$$ a = 14 $$\n",
    "$$ b = 15 $$\n",
    "$$ c = ? $$\n",
    "\n",
    "calculate\n",
    "\n",
    "$$ a^2 + b^2 + c^2 $$\n",
    "$$ c = \\sqrt{a^2 + b^2} $$"
   ]
  },
  {
   "cell_type": "code",
   "execution_count": null,
   "metadata": {
    "collapsed": true
   },
   "outputs": [],
   "source": []
  },
  {
   "cell_type": "markdown",
   "metadata": {},
   "source": [
    "The diameter of a circle is 5. Find the area of the circle, given that radius is one half of the diameter and area is equal to $\\pi r^2$. \n",
    "\n",
    "$$ d = 5 $$\n",
    "$$ a = ? $$\n",
    "\n",
    "\n",
    "$$ a = \\pi r^2 $$\n",
    "$$ r = \\frac{d}{2} $$\n"
   ]
  },
  {
   "cell_type": "code",
   "execution_count": null,
   "metadata": {
    "collapsed": true
   },
   "outputs": [],
   "source": []
  },
  {
   "cell_type": "markdown",
   "metadata": {},
   "source": [
    "The diamter of a sphere is 10. Find the volume of the sphere, given the radius is one half the diameter and volume is equal to $\\frac{4}{3}\\pi r^3$\n",
    "\n",
    "$$ d = 10 $$\n",
    "$$ V = ? $$\n",
    "\n",
    "$$ r = \\frac{d}{2} $$\n",
    "$$ V = \\frac{4}{3} \\pi r^3 $$"
   ]
  },
  {
   "cell_type": "code",
   "execution_count": null,
   "metadata": {
    "collapsed": true
   },
   "outputs": [],
   "source": []
  },
  {
   "cell_type": "markdown",
   "metadata": {},
   "source": [
    "A free-falling body will travel a vertical distance d, according to the free-fall time, t and the gravitational constant g which is equal to 9.8 m/s<sup>2</sup>.\n",
    "\n",
    "$$ d = \\frac{1}{2}gt^2 $$\n",
    "\n",
    "$$ g = 9.8 \\ m/s^2 $$\n",
    "\n",
    "Determine the distance a free-falling body will travel in meters if it falls for 0.8 seconds"
   ]
  },
  {
   "cell_type": "code",
   "execution_count": null,
   "metadata": {
    "collapsed": true
   },
   "outputs": [],
   "source": []
  },
  {
   "cell_type": "markdown",
   "metadata": {},
   "source": [
    "A free-falling body will travel a vertical distance d, according to the free-fall time, t and the gravitational constant g which is equal to 9.8 m/s<sup>2</sup>.\n",
    "\n",
    "$$ d = \\frac{1}{2}gt^2 $$\n",
    "\n",
    "$$ g = 9.8 \\ m/s^2 $$\n",
    "\n",
    "How long will it take for a free-falling body to travel 3.4 meters?\n",
    "\n"
   ]
  },
  {
   "cell_type": "code",
   "execution_count": null,
   "metadata": {
    "collapsed": true
   },
   "outputs": [],
   "source": []
  },
  {
   "cell_type": "markdown",
   "metadata": {},
   "source": [
    "## Using the **math** module\n",
    "\n",
    "For the next section, define variables as stated in the problem and complete the calculation using functions from the **math** module and the variables you created. A couple lines of code are required in each cell."
   ]
  },
  {
   "cell_type": "markdown",
   "metadata": {},
   "source": [
    "The number of atomic vacancies $N_v$ in a metal crystal structure can be modeled as:\n",
    "\n",
    "$$ N_v = Ne^{\\frac{-Q_v}{RT}} $$\n",
    "\n",
    "Where $N$ is the number of potential vacancy sites, $Q_v$ is the activation energy of vacancy formation, $R$ is the universal gas constant and $T$ is temperature. \n",
    "\n",
    "For a copper alloy at 1000 degress:\n",
    "\n",
    "$$ N = 8.0 \\times 10^{28} $$\n",
    "\n",
    "$$ Q_v = 0.9 $$\n",
    "\n",
    "$$ R = 8.62 \\times 10^{-5} $$\n",
    "\n",
    "$$ T = 1000 $$\n",
    "\n",
    "In the code cell below, use Python to calculate the number of atomic vacancies $N_v$ for this copper alloy. Use the ```math``` module and make sure to include the line:\n",
    "\n",
    "```\n",
    "import math\n",
    "```\n",
    "\n",
    "At the top of your code cell.\n"
   ]
  },
  {
   "cell_type": "code",
   "execution_count": null,
   "metadata": {
    "collapsed": true
   },
   "outputs": [],
   "source": []
  },
  {
   "cell_type": "markdown",
   "metadata": {},
   "source": [
    "The x-component of a force $F_x$ is often modeled as:\n",
    "\n",
    "$$ F_x = Fcos(\\Theta) $$\n",
    "\n",
    "Where $F$ is the scalar magnitude of the force and $\\Theta$ is the angle of the force relative to the x-axis.\n",
    "\n",
    "A given force $\\vec{F}$ with a magnitude of 18 lbs is directed at 125 $^{\\circ}$ relative to the positive x-axis.\n",
    "\n",
    "$$ F = 18 $$\n",
    "\n",
    "$$ \\Theta = 125  ^{\\circ} $$\n",
    "\n",
    "In the code cell below, use Python to determine the x-component of force  $\\vec{F}$. Make sure to include the line\n",
    "\n",
    "```\n",
    "import math\n",
    "```\n",
    "\n",
    "At the top of the cell, even though it is not strictly needed as the code cell above should have already imported the math module."
   ]
  },
  {
   "cell_type": "code",
   "execution_count": null,
   "metadata": {
    "collapsed": true
   },
   "outputs": [],
   "source": []
  },
  {
   "cell_type": "markdown",
   "metadata": {},
   "source": [
    "## For Lab Check Off:\n",
    "\n",
    " * Save a copy of your notebook using File --> Make a Copy ...\n",
    " * Rename the copied notebook using your last name as the first part of the file name and Lab 7 as the second part of the file name. Example filename: \n",
    " \n",
    " > kazarinoff-Lab7\n",
    " \n",
    " * Run all of the cells in your lastname-Lab7 notebook using Kernel --> Restart & Run All\n",
    " * Download your lastname-Lab7 notebook to the downloads folder using File --> Download as --> Notebook (.ipynb)\n",
    " * Upload your lastname-Lab7.ipynb file (the one you just downloaded) to Google Drive in the ENGR101 - Lab 7 Student Uploads folder\n",
    " * Before closing your notebook or google drive, raise your hand and have your instrcutor check your work. Your instructor will check:\n",
    "    * The entire lastname-Lab7 notebook was run and no errors were returned\n",
    "    * your lastname-Lab7.ipynb file was uploaded to google drive."
   ]
  },
  {
   "cell_type": "code",
   "execution_count": null,
   "metadata": {
    "collapsed": true
   },
   "outputs": [],
   "source": []
  }
 ],
 "metadata": {
  "kernelspec": {
   "display_name": "Python 3",
   "language": "python",
   "name": "python3"
  },
  "language_info": {
   "codemirror_mode": {
    "name": "ipython",
    "version": 3
   },
   "file_extension": ".py",
   "mimetype": "text/x-python",
   "name": "python",
   "nbconvert_exporter": "python",
   "pygments_lexer": "ipython3",
   "version": "3.6.3"
  }
 },
 "nbformat": 4,
 "nbformat_minor": 2
}
