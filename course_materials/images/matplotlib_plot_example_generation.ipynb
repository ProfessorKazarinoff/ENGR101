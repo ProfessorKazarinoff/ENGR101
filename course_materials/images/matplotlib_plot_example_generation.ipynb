{
 "cells": [
  {
   "cell_type": "code",
   "execution_count": null,
   "metadata": {},
   "outputs": [],
   "source": [
    "import numpy as np\n",
    "import matplotlib.pyplot as plt\n",
    "\n",
    "\n",
    "# Build the plot\n",
    "fig, (ax1, ax2, ax3) = plt.subplots(nrows=1, ncols=3, figsize=(20, 5))\n",
    "\n",
    "# line plot\n",
    "\n",
    "x = np.arange(0,4*np.pi,0.1)\n",
    "y = np.sin(x)\n",
    "z = np.cos(x)\n",
    "\n",
    "ax1.plot(x,y)\n",
    "ax1.plot(x,z)\n",
    "\n",
    "ax1.set_title('Two Trig Functions')\n",
    "ax1.legend(['sin','cos'])\n",
    "ax1.xaxis.set_label_text('Angle $\\Theta$')\n",
    "ax1.yaxis.set_label_text('Sine and Cosine')\n",
    "\n",
    "# Pie chart, where the slices will be ordered and plotted counter-clockwise\n",
    "labels = 'Engineering', 'Manufacturing', 'Sales', 'Profit'\n",
    "sizes = [1.35, 3.60, 2.25, 1.80]\n",
    "explode = (0.1, 0, 0, 0)  # \"explode\" the 1st slice, 'Engineering'\n",
    "\n",
    "\n",
    "ax2.pie(sizes, explode=explode, labels=labels, autopct='%1.1f%%',\n",
    "        shadow=True, startangle=90)\n",
    "\n",
    "ax2.axis('equal')\n",
    "\n",
    "\n",
    "# bar plot\n",
    "materials = ['Aluminum', 'Copper', 'Steel']\n",
    "CTEs = [24e-6, 17e-6, 12e-6]\n",
    "bar_pos = [1,2,3]\n",
    "ax3.bar(bar_pos, CTEs, align='center', alpha=0.5)\n",
    "ax3.set_ylabel('Coefficient of Thermal Expansion ($\\degree C^{-1}$)')\n",
    "ax3.set_xticks(bar_pos)\n",
    "ax3.set_xticklabels(materials)\n",
    "ax3.set_title('Coefficent of Thermal Expansion (CTE) of Three Metals')\n",
    "ax3.yaxis.grid(True)\n",
    "\n",
    "# Save the figure and show\n",
    "plt.tight_layout()\n",
    "plt.savefig('3_plots.png')\n",
    "plt.show()"
   ]
  },
  {
   "cell_type": "code",
   "execution_count": null,
   "metadata": {},
   "outputs": [],
   "source": [
    "import matplotlib.pyplot as plt\n",
    "\n",
    "\n",
    "\n",
    "# Pie chart, where the slices will be ordered and plotted counter-clockwise:\n",
    "labels = 'Frogs', 'Hogs', 'Dogs', 'Logs'\n",
    "sizes = [15, 30, 45, 10]\n",
    "explode = (0, 0.1, 0, 0)  # only \"explode\" the 2nd slice (i.e. 'Hogs')\n",
    "\n",
    "#fig1, ax1 = plt.subplots()\n",
    "plt.pie(sizes, explode=explode, labels=labels, autopct='%1.1f%%',\n",
    "        shadow=True, startangle=90)\n",
    "#ax1.axis('equal')  # Equal aspect ratio ensures that pie is drawn as a circle.\n",
    "plt.axis('equal')\n",
    "plt.show()"
   ]
  },
  {
   "cell_type": "code",
   "execution_count": null,
   "metadata": {},
   "outputs": [],
   "source": [
    "# bar plot\n",
    "import numpy as np\n",
    "import matplotlib.pyplot as plt\n",
    "%matplotlib inline\n",
    "\n",
    "materials = ['Aluminum', 'Copper', 'Steel']\n",
    "CTEs = [24e-6, 17e-6, 12e-6]\n",
    "bar_pos = [1,2,3]\n",
    "\n",
    "plt.bar(bar_pos, CTEs, alpha=0.5)\n",
    "plt.ylabel('CTE (1/*C)')\n",
    "plt.xlabel('Metals')\n",
    "plt.xticks([1,2,3], materials)\n",
    "plt.grid(axis='y')\n",
    "plt.title('Coefficients of Thermal Expanion of three metals')\n",
    "\n",
    "plt.show()"
   ]
  },
  {
   "cell_type": "code",
   "execution_count": null,
   "metadata": {},
   "outputs": [],
   "source": []
  }
 ],
 "metadata": {
  "kernelspec": {
   "display_name": "Python 3",
   "language": "python",
   "name": "python3"
  },
  "language_info": {
   "codemirror_mode": {
    "name": "ipython",
    "version": 3
   },
   "file_extension": ".py",
   "mimetype": "text/x-python",
   "name": "python",
   "nbconvert_exporter": "python",
   "pygments_lexer": "ipython3",
   "version": "3.6.4"
  }
 },
 "nbformat": 4,
 "nbformat_minor": 2
}
