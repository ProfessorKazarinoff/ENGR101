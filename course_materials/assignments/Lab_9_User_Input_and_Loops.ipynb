{
 "cells": [
  {
   "cell_type": "markdown",
   "metadata": {},
   "source": [
    "# Lab 9 - User Input and Loops"
   ]
  },
  {
   "cell_type": "markdown",
   "metadata": {},
   "source": [
    "Build a code cell that asks the user for their birthday and prints their birthday back to them. Run the code cell and see the resulting output."
   ]
  },
  {
   "cell_type": "code",
   "execution_count": null,
   "metadata": {},
   "outputs": [],
   "source": []
  },
  {
   "cell_type": "markdown",
   "metadata": {},
   "source": [
    "Build a code cell that asks a user for a temperature in degrees Fahrenheit and prints back to them the temperature in degrees Celsius. Remember: **in Python, user input is stored as a string. User input needs to be converted to a float in order to run mathematical calculations.** Run the code cell and enter in 85 degrees F.  See the resulting output."
   ]
  },
  {
   "cell_type": "code",
   "execution_count": null,
   "metadata": {},
   "outputs": [],
   "source": []
  },
  {
   "cell_type": "markdown",
   "metadata": {},
   "source": [
    "Build a code cell that asks a user for 3 test scores using a _for loop_ and prints back to them the:\n",
    "\n",
    " * average score\n",
    " * highest score\n",
    " * lowest score\n",
    "\n",
    "Python's ```lst.append()``` method is useful for storing user input as elements in a Python list. Remember, an empty list needs to be initialized (example: ```test_score_list = []```) before the ```lst.append()``` method can be used. Run the code cell and see the resulting output."
   ]
  },
  {
   "cell_type": "code",
   "execution_count": null,
   "metadata": {},
   "outputs": [],
   "source": []
  },
  {
   "cell_type": "markdown",
   "metadata": {},
   "source": [
    "Build a code cell that asks a user for an initial investment in dollars and number of years they want to invest, and produces a plot of the total amount they saved over time. Assume an interest rate of 4% or 0.04 and assume interest is compounded monthly or 12 times per year. The formula for compound interest is below:\n",
    "\n",
    "$$ A = P(1 + r/n)^{nt} $$\n",
    "\n",
    "Where $A$ is the total amount saved, $P$ is the principal or initial investment, $r$ is the interest rate in decimal form, $n$ is the number of times interest is compounded per year and $t$ is the time in years. \n",
    "\n",
    "According to the formula, if the someone's initial investment is $1000 and the number of years they invest is 3 years:\n",
    "\n",
    "$$ P = 1000 $$\n",
    "$$ r = 0.04 $$\n",
    "$$ n = 12 $$\n",
    "$$ t = 1,\\ 2,\\ and \\ 3 $$\n",
    "\n",
    "In year 1, $t = 1$:\n",
    "\n",
    "$$ A = ($1000)(1 + 0.04/12)^{(12)(1)} $$\n",
    "$$ A = $1040.74 $$\n",
    "\n",
    "In year 2, $t = 2$:\n",
    "\n",
    "$$ A = ($1000)(1 + 0.04/12)^{(12)(2)} $$\n",
    "$$ A = $1083.14 $$\n",
    "\n",
    "In year 3, $t = 3$:\n",
    "\n",
    "$$ A = ($1000)(1 + 0.04/12)^{(12)(3)} $$\n",
    "$$ A = $1127.27 $$\n",
    "\n",
    "Construct the script using a _for loop_. Note the time in years, $t$ is the value that changes each time the loop runs. $n$, the number of times interest is compounded each year - is a constant, $n=12$. For each value of $t$ (each time the loop runs) a different value of $A$ is produced. The ```list.append()``` method may be useful, as ```list.append()``` adds a new value to a the end of an existing list.\n",
    "\n",
    "On the plot produced by the code cell, the y-axis should be the amount saved in dollars and the x-axis should be time in years. Make sure the plot produced includes a title, y-axis label with units, and x-axis label with units. \n",
    "\n",
    "Run the code cell a couple times with different dollar amounts and different number of years. "
   ]
  },
  {
   "cell_type": "code",
   "execution_count": null,
   "metadata": {},
   "outputs": [],
   "source": []
  },
  {
   "cell_type": "markdown",
   "metadata": {},
   "source": [
    "## For Lab Check Off:\n",
    "\n",
    " * Save a copy of your notebook using File --> Make a Copy ...\n",
    " * Rename the copied notebook using your last name as the first part of the file name and Lab 9 as the second part of the file name. Example filename: \n",
    " \n",
    " > kazarinoff-Lab9\n",
    " \n",
    " * Run all of the cells in your lastname-Lab9 notebook using Kernel --> Restart & Clear Output. Run all code cells one by one, one final time. Use an initial investment of 1000 dollars and 3 years to run your last code section. \n",
    " * Download your lastname-Lab9 notebook to the downloads folder using File --> Download as --> Notebook (.ipynb)\n",
    " * Upload your lastname-Lab9.ipynb file (the one you just downloaded) as directed by your instructor\n",
    " * Before closing your notebook, check to ensure the notebook was successfully uploaded."
   ]
  },
  {
   "cell_type": "code",
   "execution_count": null,
   "metadata": {},
   "outputs": [],
   "source": []
  }
 ],
 "metadata": {
  "kernelspec": {
   "display_name": "Python 3",
   "language": "python",
   "name": "python3"
  },
  "language_info": {
   "codemirror_mode": {
    "name": "ipython",
    "version": 3
   },
   "file_extension": ".py",
   "mimetype": "text/x-python",
   "name": "python",
   "nbconvert_exporter": "python",
   "pygments_lexer": "ipython3",
   "version": "3.6.4"
  }
 },
 "nbformat": 4,
 "nbformat_minor": 2
}
